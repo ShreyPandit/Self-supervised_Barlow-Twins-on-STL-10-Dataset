{
  "nbformat": 4,
  "nbformat_minor": 0,
  "metadata": {
    "colab": {
      "name": "DL_assignment.ipynb",
      "provenance": [],
      "collapsed_sections": [
        "u7oIBEBkkDFY",
        "M82p5N10kMJR",
        "e0PpvhYUkhzM",
        "ql8sw1YtktwK",
        "3A6pGlO-FFD0"
      ],
      "machine_shape": "hm"
    },
    "kernelspec": {
      "name": "python3",
      "display_name": "Python 3"
    },
    "language_info": {
      "name": "python"
    },
    "accelerator": "TPU"
  },
  "cells": [
    {
      "cell_type": "markdown",
      "metadata": {
        "id": "1lWGsMJn2efq"
      },
      "source": [
        "# Idea and theme of the Question - \n",
        "The question's main idea is to explore the impact of\n",
        "Skip Connections in Multi Layer Perceptron networks.\n",
        "\n",
        "\n",
        "\n",
        "1.   Compare the performance of MLPs with skip connections to those without skip connections.\n",
        "2.   Analyse multiple different types of skip connections and compare their performance.\n",
        "3. Perform ablation studies over different characteristics of skip connections\n",
        "4. BONUS: Attempt to explain, through an experiment of your own, why Skip Con-\n",
        "nections help or hurt."
      ]
    },
    {
      "cell_type": "markdown",
      "metadata": {
        "id": "u7oIBEBkkDFY"
      },
      "source": [
        "# Importing the libraries"
      ]
    },
    {
      "cell_type": "code",
      "metadata": {
        "id": "TzUjaGtH4QG9"
      },
      "source": [
        "import tensorflow as tf\n",
        "import tensorflow.keras as keras\n",
        "from tensorflow.keras.models import Model\n",
        "from matplotlib import pyplot\n",
        "from keras.datasets import cifar10\n",
        "from keras.datasets import mnist\n",
        "from keras.models import Sequential\n",
        "from keras.layers import Conv2D\n",
        "from keras.layers import MaxPooling2D\n",
        "from keras.layers import Dense\n",
        "from keras.layers import Flatten\n",
        "from keras.layers import Input, Add\n",
        "from tensorflow.keras.optimizers import SGD\n",
        "from sklearn.preprocessing import OneHotEncoder\n",
        "from sklearn.model_selection import train_test_split"
      ],
      "execution_count": null,
      "outputs": []
    },
    {
      "cell_type": "markdown",
      "metadata": {
        "id": "CYC07OIFkFAn"
      },
      "source": [
        "Instanciating the TPU cluster"
      ]
    },
    {
      "cell_type": "code",
      "metadata": {
        "colab": {
          "base_uri": "https://localhost:8080/"
        },
        "id": "BXQaJgIq5o_P",
        "outputId": "76f8a7c4-05a2-4361-c95b-ed28cf5770fb"
      },
      "source": [
        "print(\"Tensorflow version \" + tf.__version__)\n",
        "\n",
        "try:\n",
        "  tpu = tf.distribute.cluster_resolver.TPUClusterResolver()  # TPU detection\n",
        "  print('Running on TPU ', tpu.cluster_spec().as_dict()['worker'])\n",
        "except ValueError:\n",
        "  raise BaseException('ERROR: Not connected to a TPU runtime; please see the previous cell in this notebook for instructions!')\n",
        "\n",
        "tf.config.experimental_connect_to_cluster(tpu)\n",
        "tf.tpu.experimental.initialize_tpu_system(tpu)\n",
        "tpu_strategy = tf.distribute.experimental.TPUStrategy(tpu)"
      ],
      "execution_count": null,
      "outputs": [
        {
          "output_type": "stream",
          "name": "stdout",
          "text": [
            "Tensorflow version 2.6.0\n",
            "Running on TPU  ['10.26.179.154:8470']\n",
            "INFO:tensorflow:Clearing out eager caches\n"
          ]
        },
        {
          "output_type": "stream",
          "name": "stderr",
          "text": [
            "INFO:tensorflow:Clearing out eager caches\n"
          ]
        },
        {
          "output_type": "stream",
          "name": "stdout",
          "text": [
            "INFO:tensorflow:Initializing the TPU system: grpc://10.26.179.154:8470\n"
          ]
        },
        {
          "output_type": "stream",
          "name": "stderr",
          "text": [
            "INFO:tensorflow:Initializing the TPU system: grpc://10.26.179.154:8470\n"
          ]
        },
        {
          "output_type": "stream",
          "name": "stdout",
          "text": [
            "INFO:tensorflow:Finished initializing TPU system.\n"
          ]
        },
        {
          "output_type": "stream",
          "name": "stderr",
          "text": [
            "INFO:tensorflow:Finished initializing TPU system.\n",
            "WARNING:absl:`tf.distribute.experimental.TPUStrategy` is deprecated, please use  the non experimental symbol `tf.distribute.TPUStrategy` instead.\n"
          ]
        },
        {
          "output_type": "stream",
          "name": "stdout",
          "text": [
            "INFO:tensorflow:Found TPU system:\n"
          ]
        },
        {
          "output_type": "stream",
          "name": "stderr",
          "text": [
            "INFO:tensorflow:Found TPU system:\n"
          ]
        },
        {
          "output_type": "stream",
          "name": "stdout",
          "text": [
            "INFO:tensorflow:*** Num TPU Cores: 8\n"
          ]
        },
        {
          "output_type": "stream",
          "name": "stderr",
          "text": [
            "INFO:tensorflow:*** Num TPU Cores: 8\n"
          ]
        },
        {
          "output_type": "stream",
          "name": "stdout",
          "text": [
            "INFO:tensorflow:*** Num TPU Workers: 1\n"
          ]
        },
        {
          "output_type": "stream",
          "name": "stderr",
          "text": [
            "INFO:tensorflow:*** Num TPU Workers: 1\n"
          ]
        },
        {
          "output_type": "stream",
          "name": "stdout",
          "text": [
            "INFO:tensorflow:*** Num TPU Cores Per Worker: 8\n"
          ]
        },
        {
          "output_type": "stream",
          "name": "stderr",
          "text": [
            "INFO:tensorflow:*** Num TPU Cores Per Worker: 8\n"
          ]
        },
        {
          "output_type": "stream",
          "name": "stdout",
          "text": [
            "INFO:tensorflow:*** Available Device: _DeviceAttributes(/job:localhost/replica:0/task:0/device:CPU:0, CPU, 0, 0)\n"
          ]
        },
        {
          "output_type": "stream",
          "name": "stderr",
          "text": [
            "INFO:tensorflow:*** Available Device: _DeviceAttributes(/job:localhost/replica:0/task:0/device:CPU:0, CPU, 0, 0)\n"
          ]
        },
        {
          "output_type": "stream",
          "name": "stdout",
          "text": [
            "INFO:tensorflow:*** Available Device: _DeviceAttributes(/job:worker/replica:0/task:0/device:CPU:0, CPU, 0, 0)\n"
          ]
        },
        {
          "output_type": "stream",
          "name": "stderr",
          "text": [
            "INFO:tensorflow:*** Available Device: _DeviceAttributes(/job:worker/replica:0/task:0/device:CPU:0, CPU, 0, 0)\n"
          ]
        },
        {
          "output_type": "stream",
          "name": "stdout",
          "text": [
            "INFO:tensorflow:*** Available Device: _DeviceAttributes(/job:worker/replica:0/task:0/device:TPU:0, TPU, 0, 0)\n"
          ]
        },
        {
          "output_type": "stream",
          "name": "stderr",
          "text": [
            "INFO:tensorflow:*** Available Device: _DeviceAttributes(/job:worker/replica:0/task:0/device:TPU:0, TPU, 0, 0)\n"
          ]
        },
        {
          "output_type": "stream",
          "name": "stdout",
          "text": [
            "INFO:tensorflow:*** Available Device: _DeviceAttributes(/job:worker/replica:0/task:0/device:TPU:1, TPU, 0, 0)\n"
          ]
        },
        {
          "output_type": "stream",
          "name": "stderr",
          "text": [
            "INFO:tensorflow:*** Available Device: _DeviceAttributes(/job:worker/replica:0/task:0/device:TPU:1, TPU, 0, 0)\n"
          ]
        },
        {
          "output_type": "stream",
          "name": "stdout",
          "text": [
            "INFO:tensorflow:*** Available Device: _DeviceAttributes(/job:worker/replica:0/task:0/device:TPU:2, TPU, 0, 0)\n"
          ]
        },
        {
          "output_type": "stream",
          "name": "stderr",
          "text": [
            "INFO:tensorflow:*** Available Device: _DeviceAttributes(/job:worker/replica:0/task:0/device:TPU:2, TPU, 0, 0)\n"
          ]
        },
        {
          "output_type": "stream",
          "name": "stdout",
          "text": [
            "INFO:tensorflow:*** Available Device: _DeviceAttributes(/job:worker/replica:0/task:0/device:TPU:3, TPU, 0, 0)\n"
          ]
        },
        {
          "output_type": "stream",
          "name": "stderr",
          "text": [
            "INFO:tensorflow:*** Available Device: _DeviceAttributes(/job:worker/replica:0/task:0/device:TPU:3, TPU, 0, 0)\n"
          ]
        },
        {
          "output_type": "stream",
          "name": "stdout",
          "text": [
            "INFO:tensorflow:*** Available Device: _DeviceAttributes(/job:worker/replica:0/task:0/device:TPU:4, TPU, 0, 0)\n"
          ]
        },
        {
          "output_type": "stream",
          "name": "stderr",
          "text": [
            "INFO:tensorflow:*** Available Device: _DeviceAttributes(/job:worker/replica:0/task:0/device:TPU:4, TPU, 0, 0)\n"
          ]
        },
        {
          "output_type": "stream",
          "name": "stdout",
          "text": [
            "INFO:tensorflow:*** Available Device: _DeviceAttributes(/job:worker/replica:0/task:0/device:TPU:5, TPU, 0, 0)\n"
          ]
        },
        {
          "output_type": "stream",
          "name": "stderr",
          "text": [
            "INFO:tensorflow:*** Available Device: _DeviceAttributes(/job:worker/replica:0/task:0/device:TPU:5, TPU, 0, 0)\n"
          ]
        },
        {
          "output_type": "stream",
          "name": "stdout",
          "text": [
            "INFO:tensorflow:*** Available Device: _DeviceAttributes(/job:worker/replica:0/task:0/device:TPU:6, TPU, 0, 0)\n"
          ]
        },
        {
          "output_type": "stream",
          "name": "stderr",
          "text": [
            "INFO:tensorflow:*** Available Device: _DeviceAttributes(/job:worker/replica:0/task:0/device:TPU:6, TPU, 0, 0)\n"
          ]
        },
        {
          "output_type": "stream",
          "name": "stdout",
          "text": [
            "INFO:tensorflow:*** Available Device: _DeviceAttributes(/job:worker/replica:0/task:0/device:TPU:7, TPU, 0, 0)\n"
          ]
        },
        {
          "output_type": "stream",
          "name": "stderr",
          "text": [
            "INFO:tensorflow:*** Available Device: _DeviceAttributes(/job:worker/replica:0/task:0/device:TPU:7, TPU, 0, 0)\n"
          ]
        },
        {
          "output_type": "stream",
          "name": "stdout",
          "text": [
            "INFO:tensorflow:*** Available Device: _DeviceAttributes(/job:worker/replica:0/task:0/device:TPU_SYSTEM:0, TPU_SYSTEM, 0, 0)\n"
          ]
        },
        {
          "output_type": "stream",
          "name": "stderr",
          "text": [
            "INFO:tensorflow:*** Available Device: _DeviceAttributes(/job:worker/replica:0/task:0/device:TPU_SYSTEM:0, TPU_SYSTEM, 0, 0)\n"
          ]
        },
        {
          "output_type": "stream",
          "name": "stdout",
          "text": [
            "INFO:tensorflow:*** Available Device: _DeviceAttributes(/job:worker/replica:0/task:0/device:XLA_CPU:0, XLA_CPU, 0, 0)\n"
          ]
        },
        {
          "output_type": "stream",
          "name": "stderr",
          "text": [
            "INFO:tensorflow:*** Available Device: _DeviceAttributes(/job:worker/replica:0/task:0/device:XLA_CPU:0, XLA_CPU, 0, 0)\n"
          ]
        }
      ]
    },
    {
      "cell_type": "code",
      "metadata": {
        "id": "XcwKNCMNgt5d"
      },
      "source": [
        "# normalizing images\n",
        "def normalize_image(train, val ,test):\n",
        "  # convert from integers to floats\n",
        "  train_norm = train.astype('float32')\n",
        "  test_norm = test.astype('float32')\n",
        "  val_norm = val.astype('float32')\n",
        "  # normalize to range 0-1\n",
        "  train_norm = train_norm / 255.0\n",
        "  test_norm = test_norm / 255.0\n",
        "  val_norm = val_norm/ 255.0\n",
        "  # return normalized images\n",
        "  return train_norm, val_norm, test_norm"
      ],
      "execution_count": null,
      "outputs": []
    },
    {
      "cell_type": "code",
      "metadata": {
        "id": "GiQiRoUvtENh"
      },
      "source": [
        "# declaring callback function\n",
        "callback = tf.keras.callbacks.ReduceLROnPlateau(\n",
        "    monitor='val_loss', factor=0.1, patience=2, verbose=0,\n",
        "    mode='auto', min_delta=0.00001, cooldown=0, min_lr=0)"
      ],
      "execution_count": null,
      "outputs": []
    },
    {
      "cell_type": "markdown",
      "metadata": {
        "id": "M82p5N10kMJR"
      },
      "source": [
        "# Q1. Vanilla model vs Skip connection"
      ]
    },
    {
      "cell_type": "markdown",
      "metadata": {
        "id": "kzc2efeD3JmB"
      },
      "source": [
        "## Results <br>\n",
        "|  Dataset |  Vanilla Model | Skip connection  | %age Gain  |   |   |   |\n",
        "|:-:|:-:|:-:|:-:|:-:|---|---|\n",
        "|  MNIST | 96.67%  | 97.34%  | +0.67%  |   |   |   |\n",
        "|  CIFAR-10 | 41.30%  | 49.17  | +7.87%  |   |   |   |"
      ]
    },
    {
      "cell_type": "markdown",
      "metadata": {
        "id": "qh1U3u0i4Wdo"
      },
      "source": [
        "So from the results we can see that the model with skip connections, tend to help increase model performance. The reason for such improved performance is that it provides an alternative path during back propagation which kind of helps in cases of vanishing gradients, thus preventing it and helping model perform better"
      ]
    },
    {
      "cell_type": "markdown",
      "metadata": {
        "id": "dpgV18heQOQa"
      },
      "source": [
        "Vanilla (base) Model"
      ]
    },
    {
      "cell_type": "code",
      "metadata": {
        "colab": {
          "base_uri": "https://localhost:8080/"
        },
        "id": "NKsRXdss4kbm",
        "outputId": "95d5eba6-82c3-4be1-ed0a-ad80ed4a139a"
      },
      "source": [
        "# creating model \n",
        "def create_model():\n",
        "    inputs = Input(shape=(32,32,3))\n",
        "    input = tf.keras.layers.Flatten(input_shape=(32,32,3))(inputs)\n",
        "    x = tf.keras.layers.Dense(512, activation=tf.nn.relu)(input)\n",
        "\n",
        "    w = tf.keras.layers.Dense(256, activation=tf.nn.relu)(x)\n",
        "    z = tf.keras.layers.Dense(256, activation=tf.nn.relu)(w)\n",
        "    x = tf.keras.layers.Dense(256, activation=tf.nn.relu)(z)\n",
        "    z = tf.keras.layers.Dense(256, activation=tf.nn.relu)(x)\n",
        "\n",
        "    w = tf.keras.layers.Dense(128, activation=tf.nn.relu)(z)\n",
        "    z = tf.keras.layers.Dense(128, activation=tf.nn.relu)(w)\n",
        "    x = tf.keras.layers.Dense(128, activation=tf.nn.relu)(z)\n",
        "    z = tf.keras.layers.Dense(128, activation=tf.nn.relu)(x)\n",
        "\n",
        "    w = tf.keras.layers.Dense(64, activation=tf.nn.relu)(z)\n",
        "    z = tf.keras.layers.Dense(64, activation=tf.nn.relu)(w)\n",
        "    x = tf.keras.layers.Dense(64, activation=tf.nn.relu)(z)\n",
        "    z = tf.keras.layers.Dense(64, activation=tf.nn.relu)(x)\n",
        "\n",
        "    w = tf.keras.layers.Dense(32, activation=tf.nn.relu)(z)\n",
        "    z = tf.keras.layers.Dense(32, activation=tf.nn.relu)(w)\n",
        "    x = tf.keras.layers.Dense(32, activation=tf.nn.relu)(z)\n",
        "    z = tf.keras.layers.Dense(32, activation=tf.nn.relu)(x)\n",
        "\n",
        "    z = tf.keras.layers.Dense(10, activation=tf.nn.softmax)(z)\n",
        "    model = Model(inputs, z)\n",
        "    model.compile(optimizer='adam',loss='sparse_categorical_crossentropy', metrics=['accuracy'])\n",
        "    return model\n",
        "\n",
        "# to run model on tpu\n",
        "with tpu_strategy.scope():\n",
        "    model = create_model()\n",
        "\n",
        "# loading cifar10 dataset\n",
        "(trainX, trainY),(testX, testY) = cifar10.load_data()\n",
        "\n",
        "# splitting the training data in training and validation data\n",
        "trainX, valX, trainY, valY = train_test_split(trainX, trainY, test_size=0.20, random_state=42)\n",
        "\n",
        "# normalizing the image\n",
        "trainX,valX, testX = normalize_image(trainX,valX, testX)\n",
        "  \n",
        "# fit model\n",
        "history = model.fit(trainX, trainY, validation_data=(valX,valY),epochs=50, batch_size=64, verbose=1)\n"
      ],
      "execution_count": null,
      "outputs": [
        {
          "output_type": "stream",
          "name": "stdout",
          "text": [
            "Epoch 1/50\n",
            "625/625 [==============================] - 17s 18ms/step - loss: 2.1739 - accuracy: 0.1511 - val_loss: 2.0795 - val_accuracy: 0.1828\n",
            "Epoch 2/50\n",
            "625/625 [==============================] - 8s 12ms/step - loss: 2.0349 - accuracy: 0.1943 - val_loss: 2.0064 - val_accuracy: 0.1973\n",
            "Epoch 3/50\n",
            "625/625 [==============================] - 7s 12ms/step - loss: 1.9881 - accuracy: 0.2101 - val_loss: 1.9849 - val_accuracy: 0.1970\n",
            "Epoch 4/50\n",
            "625/625 [==============================] - 7s 12ms/step - loss: 1.9554 - accuracy: 0.2262 - val_loss: 1.9358 - val_accuracy: 0.2263\n",
            "Epoch 5/50\n",
            "625/625 [==============================] - 7s 12ms/step - loss: 1.9310 - accuracy: 0.2321 - val_loss: 1.9788 - val_accuracy: 0.2285\n",
            "Epoch 6/50\n",
            "625/625 [==============================] - 7s 12ms/step - loss: 1.9211 - accuracy: 0.2442 - val_loss: 1.9217 - val_accuracy: 0.2409\n",
            "Epoch 7/50\n",
            "625/625 [==============================] - 7s 11ms/step - loss: 1.8998 - accuracy: 0.2604 - val_loss: 1.9038 - val_accuracy: 0.2620\n",
            "Epoch 8/50\n",
            "625/625 [==============================] - 7s 12ms/step - loss: 1.8849 - accuracy: 0.2700 - val_loss: 1.8962 - val_accuracy: 0.2623\n",
            "Epoch 9/50\n",
            "625/625 [==============================] - 7s 12ms/step - loss: 1.8654 - accuracy: 0.2824 - val_loss: 1.8688 - val_accuracy: 0.2888\n",
            "Epoch 10/50\n",
            "625/625 [==============================] - 7s 12ms/step - loss: 1.8635 - accuracy: 0.2871 - val_loss: 1.8906 - val_accuracy: 0.2830\n",
            "Epoch 11/50\n",
            "625/625 [==============================] - 7s 12ms/step - loss: 1.8493 - accuracy: 0.2905 - val_loss: 1.8674 - val_accuracy: 0.2903\n",
            "Epoch 12/50\n",
            "625/625 [==============================] - 7s 12ms/step - loss: 1.8468 - accuracy: 0.2964 - val_loss: 1.8659 - val_accuracy: 0.2925\n",
            "Epoch 13/50\n",
            "625/625 [==============================] - 7s 12ms/step - loss: 1.8491 - accuracy: 0.2937 - val_loss: 1.8539 - val_accuracy: 0.2968\n",
            "Epoch 14/50\n",
            "625/625 [==============================] - 7s 12ms/step - loss: 1.8395 - accuracy: 0.3020 - val_loss: 1.8970 - val_accuracy: 0.3054\n",
            "Epoch 15/50\n",
            "625/625 [==============================] - 7s 12ms/step - loss: 1.8510 - accuracy: 0.2975 - val_loss: 1.8549 - val_accuracy: 0.2861\n",
            "Epoch 16/50\n",
            "625/625 [==============================] - 7s 12ms/step - loss: 1.8498 - accuracy: 0.3016 - val_loss: 1.8617 - val_accuracy: 0.2910\n",
            "Epoch 17/50\n",
            "625/625 [==============================] - 7s 12ms/step - loss: 1.8606 - accuracy: 0.2952 - val_loss: 1.9259 - val_accuracy: 0.2843\n",
            "Epoch 18/50\n",
            "625/625 [==============================] - 7s 12ms/step - loss: 1.8911 - accuracy: 0.2836 - val_loss: 2.0213 - val_accuracy: 0.2254\n",
            "Epoch 19/50\n",
            "625/625 [==============================] - 7s 12ms/step - loss: 1.8974 - accuracy: 0.2741 - val_loss: 1.8652 - val_accuracy: 0.2977\n",
            "Epoch 20/50\n",
            "625/625 [==============================] - 7s 12ms/step - loss: 1.8565 - accuracy: 0.2904 - val_loss: 1.8910 - val_accuracy: 0.2783\n",
            "Epoch 21/50\n",
            "625/625 [==============================] - 7s 12ms/step - loss: 1.8757 - accuracy: 0.2933 - val_loss: 1.8665 - val_accuracy: 0.2932\n",
            "Epoch 22/50\n",
            "625/625 [==============================] - 7s 11ms/step - loss: 1.8456 - accuracy: 0.3027 - val_loss: 1.8396 - val_accuracy: 0.3008\n",
            "Epoch 23/50\n",
            "625/625 [==============================] - 7s 12ms/step - loss: 1.8426 - accuracy: 0.3030 - val_loss: 2.0075 - val_accuracy: 0.2608\n",
            "Epoch 24/50\n",
            "625/625 [==============================] - 7s 12ms/step - loss: 1.9902 - accuracy: 0.2378 - val_loss: 1.8561 - val_accuracy: 0.2949\n",
            "Epoch 25/50\n",
            "625/625 [==============================] - 7s 12ms/step - loss: 1.9944 - accuracy: 0.2398 - val_loss: 1.8418 - val_accuracy: 0.3025\n",
            "Epoch 26/50\n",
            "625/625 [==============================] - 7s 12ms/step - loss: 1.7775 - accuracy: 0.3290 - val_loss: 1.7825 - val_accuracy: 0.3312\n",
            "Epoch 27/50\n",
            "625/625 [==============================] - 7s 12ms/step - loss: 1.7327 - accuracy: 0.3509 - val_loss: 1.7751 - val_accuracy: 0.3387\n",
            "Epoch 28/50\n",
            "625/625 [==============================] - 7s 12ms/step - loss: 1.7190 - accuracy: 0.3564 - val_loss: 1.7741 - val_accuracy: 0.3446\n",
            "Epoch 29/50\n",
            "625/625 [==============================] - 7s 12ms/step - loss: 1.6913 - accuracy: 0.3707 - val_loss: 1.7165 - val_accuracy: 0.3661\n",
            "Epoch 30/50\n",
            "625/625 [==============================] - 7s 12ms/step - loss: 1.6722 - accuracy: 0.3789 - val_loss: 1.7139 - val_accuracy: 0.3641\n",
            "Epoch 31/50\n",
            "625/625 [==============================] - 7s 12ms/step - loss: 1.6554 - accuracy: 0.3880 - val_loss: 1.7116 - val_accuracy: 0.3734\n",
            "Epoch 32/50\n",
            "625/625 [==============================] - 7s 12ms/step - loss: 1.6510 - accuracy: 0.3915 - val_loss: 1.7052 - val_accuracy: 0.3784\n",
            "Epoch 33/50\n",
            "625/625 [==============================] - 7s 12ms/step - loss: 1.6431 - accuracy: 0.3982 - val_loss: 1.6968 - val_accuracy: 0.3732\n",
            "Epoch 34/50\n",
            "625/625 [==============================] - 7s 12ms/step - loss: 1.6208 - accuracy: 0.4059 - val_loss: 1.6742 - val_accuracy: 0.3944\n",
            "Epoch 35/50\n",
            "625/625 [==============================] - 7s 12ms/step - loss: 1.6144 - accuracy: 0.4126 - val_loss: 1.6848 - val_accuracy: 0.3946\n",
            "Epoch 36/50\n",
            "625/625 [==============================] - 8s 12ms/step - loss: 1.6075 - accuracy: 0.4174 - val_loss: 1.6940 - val_accuracy: 0.3890\n",
            "Epoch 37/50\n",
            "625/625 [==============================] - 7s 12ms/step - loss: 1.5937 - accuracy: 0.4244 - val_loss: 1.6748 - val_accuracy: 0.3957\n",
            "Epoch 38/50\n",
            "625/625 [==============================] - 7s 12ms/step - loss: 1.5890 - accuracy: 0.4229 - val_loss: 1.6664 - val_accuracy: 0.4084\n",
            "Epoch 39/50\n",
            "625/625 [==============================] - 7s 12ms/step - loss: 1.5762 - accuracy: 0.4303 - val_loss: 1.6848 - val_accuracy: 0.3937\n",
            "Epoch 40/50\n",
            "625/625 [==============================] - 7s 11ms/step - loss: 1.5748 - accuracy: 0.4303 - val_loss: 1.6797 - val_accuracy: 0.4025\n",
            "Epoch 41/50\n",
            "625/625 [==============================] - 7s 12ms/step - loss: 1.5696 - accuracy: 0.4303 - val_loss: 1.6900 - val_accuracy: 0.3933\n",
            "Epoch 42/50\n",
            "625/625 [==============================] - 8s 12ms/step - loss: 1.5762 - accuracy: 0.4304 - val_loss: 1.6815 - val_accuracy: 0.4035\n",
            "Epoch 43/50\n",
            "625/625 [==============================] - 7s 12ms/step - loss: 1.5683 - accuracy: 0.4348 - val_loss: 1.6649 - val_accuracy: 0.4024\n",
            "Epoch 44/50\n",
            "625/625 [==============================] - 7s 11ms/step - loss: 1.5505 - accuracy: 0.4417 - val_loss: 1.6305 - val_accuracy: 0.4182\n",
            "Epoch 45/50\n",
            "625/625 [==============================] - 7s 12ms/step - loss: 1.5431 - accuracy: 0.4463 - val_loss: 1.7730 - val_accuracy: 0.3743\n",
            "Epoch 46/50\n",
            "625/625 [==============================] - 8s 12ms/step - loss: 1.5536 - accuracy: 0.4411 - val_loss: 1.6449 - val_accuracy: 0.4151\n",
            "Epoch 47/50\n",
            "625/625 [==============================] - 7s 12ms/step - loss: 1.5801 - accuracy: 0.4338 - val_loss: 1.6438 - val_accuracy: 0.4134\n",
            "Epoch 48/50\n",
            "625/625 [==============================] - 7s 12ms/step - loss: 1.5278 - accuracy: 0.4510 - val_loss: 1.6448 - val_accuracy: 0.4111\n",
            "Epoch 49/50\n",
            "625/625 [==============================] - 8s 12ms/step - loss: 1.5403 - accuracy: 0.4472 - val_loss: 1.8108 - val_accuracy: 0.3502\n",
            "Epoch 50/50\n",
            "625/625 [==============================] - 7s 12ms/step - loss: 1.5368 - accuracy: 0.4484 - val_loss: 1.6465 - val_accuracy: 0.4130\n"
          ]
        }
      ]
    },
    {
      "cell_type": "code",
      "metadata": {
        "colab": {
          "base_uri": "https://localhost:8080/"
        },
        "id": "rHvb4EE05UFV",
        "outputId": "27d14a3e-e5c1-45d7-daac-25f195a067b0"
      },
      "source": [
        "# evaluating the model\n",
        "model.evaluate(\n",
        "    testX, testY, batch_size=64, verbose=1, sample_weight=None, steps=None,\n",
        "    callbacks=None, max_queue_size=10, workers=1, use_multiprocessing=False,\n",
        "    return_dict=False\n",
        ")"
      ],
      "execution_count": null,
      "outputs": [
        {
          "output_type": "stream",
          "name": "stdout",
          "text": [
            "157/157 [==============================] - 2s 10ms/step - loss: 1.6235 - accuracy: 0.4256\n"
          ]
        },
        {
          "output_type": "execute_result",
          "data": {
            "text/plain": [
              "[1.6234586238861084, 0.42559999227523804]"
            ]
          },
          "metadata": {},
          "execution_count": 20
        }
      ]
    },
    {
      "cell_type": "code",
      "metadata": {
        "colab": {
          "base_uri": "https://localhost:8080/",
          "height": 545
        },
        "id": "cZ-73mJ0hxF5",
        "outputId": "a83c0b41-b9a2-483c-e36c-73551060b3d5"
      },
      "source": [
        "# plotting the model's training and validation accuracy and loss \n",
        "%matplotlib inline\n",
        "import matplotlib.pyplot as plt\n",
        "acc = history.history['accuracy']\n",
        "val_acc = history.history['val_accuracy']\n",
        "loss = history.history['loss']\n",
        "val_loss = history.history['val_loss']\n",
        "\n",
        "epochs = range(len(acc))\n",
        "\n",
        "plt.plot(epochs, acc, 'r', label='Training accuracy')\n",
        "plt.plot(epochs, val_acc, 'b', label='Validation accuracy')\n",
        "plt.title('Training and validation accuracy')\n",
        "plt.legend()\n",
        "plt.figure()\n",
        "\n",
        "plt.plot(epochs, loss, 'r', label='Training Loss')\n",
        "plt.plot(epochs, val_loss, 'b', label='Validation Loss')\n",
        "plt.title('Training and validation loss')\n",
        "plt.legend()\n",
        "\n",
        "plt.show()"
      ],
      "execution_count": null,
      "outputs": [
        {
          "output_type": "display_data",
          "data": {
            "image/png": "[encoded data removed]",
            "text/plain": [
              "<Figure size 432x288 with 1 Axes>"
            ]
          },
          "metadata": {
            "needs_background": "light"
          }
        },
        {
          "output_type": "display_data",
          "data": {
            "image/png": "[encoded data removed]",
            "text/plain": [
              "<Figure size 432x288 with 1 Axes>"
            ]
          },
          "metadata": {
            "needs_background": "light"
          }
        }
      ]
    },
    {
      "cell_type": "markdown",
      "metadata": {
        "id": "6YDM9uVAQYNd"
      },
      "source": [
        "Simple Skip connection"
      ]
    },
    {
      "cell_type": "code",
      "metadata": {
        "colab": {
          "base_uri": "https://localhost:8080/"
        },
        "id": "7PIROPO77FK-",
        "outputId": "e3d442bd-4489-4339-afe7-4432fa5773e7"
      },
      "source": [
        "# creating model \n",
        "def create_model():\n",
        "    inputs = Input(shape=(32,32,3))\n",
        "    input = tf.keras.layers.Flatten(input_shape=(32,32,3))(inputs)\n",
        "    x = tf.keras.layers.Dense(512, activation=tf.nn.relu)(input)\n",
        "\n",
        "    w = tf.keras.layers.Dense(256, activation=tf.nn.relu)(x)\n",
        "    z = tf.keras.layers.Dense(256, activation=tf.nn.relu)(w)\n",
        "    z = Add()([z,w])\n",
        "    x = tf.keras.layers.Dense(256, activation=tf.nn.relu)(z)\n",
        "    z = tf.keras.layers.Dense(256, activation=tf.nn.relu)(x)\n",
        "    z = Add()([z,x])\n",
        "    z = tf.keras.layers.Dropout(0.3)(z)\n",
        "\n",
        "    w = tf.keras.layers.Dense(128, activation=tf.nn.relu)(z)\n",
        "    z = tf.keras.layers.Dense(128, activation=tf.nn.relu)(w)\n",
        "    z = Add()([z,w])\n",
        "    x = tf.keras.layers.Dense(128, activation=tf.nn.relu)(z)\n",
        "    z = tf.keras.layers.Dense(128, activation=tf.nn.relu)(x)\n",
        "    z = Add()([z,x])\n",
        "    z = tf.keras.layers.Dropout(0.3)(z)\n",
        "\n",
        "    w = tf.keras.layers.Dense(64, activation=tf.nn.relu)(z)\n",
        "    z = tf.keras.layers.Dense(64, activation=tf.nn.relu)(w)\n",
        "    z = Add()([z,w])\n",
        "    x = tf.keras.layers.Dense(64, activation=tf.nn.relu)(z)\n",
        "    z = tf.keras.layers.Dense(64, activation=tf.nn.relu)(x)\n",
        "    z = Add()([z,x])\n",
        "    z = tf.keras.layers.Dropout(0.3)(z)\n",
        "\n",
        "    w = tf.keras.layers.Dense(32, activation=tf.nn.relu)(z)\n",
        "    z = tf.keras.layers.Dense(32, activation=tf.nn.relu)(w)\n",
        "    z = Add()([z,w])\n",
        "    x = tf.keras.layers.Dense(32, activation=tf.nn.relu)(z)\n",
        "    z = tf.keras.layers.Dense(32, activation=tf.nn.relu)(x)\n",
        "    z = Add()([z,x])\n",
        "\n",
        "    z = tf.keras.layers.Dense(10, activation=tf.nn.softmax)(z)\n",
        "    model = Model(inputs, z)\n",
        "    model.compile(optimizer=tf.keras.optimizers.Adam(0.0001),loss='sparse_categorical_crossentropy', metrics=['accuracy'])\n",
        "    return model\n",
        "\n",
        "# to run model on tpu\n",
        "with tpu_strategy.scope():\n",
        "    model = create_model()\n",
        "\n",
        "# loading cifar10 dataset\n",
        "(trainX, trainY),(testX, testY) = cifar10.load_data()\n",
        "\n",
        "# splitting the training data in training and validation data\n",
        "trainX, valX, trainY, valY = train_test_split(trainX, trainY, test_size=0.33, random_state=42)\n",
        "\n",
        "# normalizing the image\n",
        "trainX,valX, testX = normalize_image(trainX,valX, testX)\n",
        "  \n",
        "# fit model\n",
        "history_3 = model.fit(trainX, trainY, validation_data=(valX,valY),epochs=50, batch_size=64, verbose=1,callbacks=[callback])"
      ],
      "execution_count": null,
      "outputs": [
        {
          "output_type": "stream",
          "name": "stdout",
          "text": [
            "Epoch 1/50\n",
            "524/524 [==============================] - 23s 29ms/step - loss: 2.2765 - accuracy: 0.1267 - val_loss: 2.1571 - val_accuracy: 0.1895\n",
            "Epoch 2/50\n",
            "524/524 [==============================] - 7s 14ms/step - loss: 2.0623 - accuracy: 0.2027 - val_loss: 1.9719 - val_accuracy: 0.2316\n",
            "Epoch 3/50\n",
            "524/524 [==============================] - 8s 14ms/step - loss: 1.9612 - accuracy: 0.2421 - val_loss: 1.8883 - val_accuracy: 0.2698\n",
            "Epoch 4/50\n",
            "524/524 [==============================] - 8s 14ms/step - loss: 1.9074 - accuracy: 0.2664 - val_loss: 1.8410 - val_accuracy: 0.2999\n",
            "Epoch 5/50\n",
            "524/524 [==============================] - 8s 14ms/step - loss: 1.8626 - accuracy: 0.2830 - val_loss: 1.8144 - val_accuracy: 0.3247\n",
            "Epoch 6/50\n",
            "524/524 [==============================] - 8s 14ms/step - loss: 1.8204 - accuracy: 0.3036 - val_loss: 1.7963 - val_accuracy: 0.3245\n",
            "Epoch 7/50\n",
            "524/524 [==============================] - 7s 14ms/step - loss: 1.7907 - accuracy: 0.3169 - val_loss: 1.7538 - val_accuracy: 0.3335\n",
            "Epoch 8/50\n",
            "524/524 [==============================] - 7s 14ms/step - loss: 1.7554 - accuracy: 0.3389 - val_loss: 1.7242 - val_accuracy: 0.3725\n",
            "Epoch 9/50\n",
            "524/524 [==============================] - 7s 14ms/step - loss: 1.7289 - accuracy: 0.3519 - val_loss: 1.7369 - val_accuracy: 0.3750\n",
            "Epoch 10/50\n",
            "524/524 [==============================] - 8s 15ms/step - loss: 1.6950 - accuracy: 0.3693 - val_loss: 1.7216 - val_accuracy: 0.3782\n",
            "Epoch 11/50\n",
            "524/524 [==============================] - 8s 15ms/step - loss: 1.6636 - accuracy: 0.3889 - val_loss: 1.6753 - val_accuracy: 0.3903\n",
            "Epoch 12/50\n",
            "524/524 [==============================] - 8s 15ms/step - loss: 1.6366 - accuracy: 0.3987 - val_loss: 1.6659 - val_accuracy: 0.4032\n",
            "Epoch 13/50\n",
            "524/524 [==============================] - 8s 15ms/step - loss: 1.6026 - accuracy: 0.4143 - val_loss: 1.6631 - val_accuracy: 0.4143\n",
            "Epoch 14/50\n",
            "524/524 [==============================] - 8s 14ms/step - loss: 1.5866 - accuracy: 0.4254 - val_loss: 1.6150 - val_accuracy: 0.4241\n",
            "Epoch 15/50\n",
            "524/524 [==============================] - 8s 14ms/step - loss: 1.5625 - accuracy: 0.4327 - val_loss: 1.6229 - val_accuracy: 0.4234\n",
            "Epoch 16/50\n",
            "524/524 [==============================] - 7s 14ms/step - loss: 1.5385 - accuracy: 0.4469 - val_loss: 1.5941 - val_accuracy: 0.4324\n",
            "Epoch 17/50\n",
            "524/524 [==============================] - 7s 14ms/step - loss: 1.5141 - accuracy: 0.4540 - val_loss: 1.5816 - val_accuracy: 0.4453\n",
            "Epoch 18/50\n",
            "524/524 [==============================] - 7s 14ms/step - loss: 1.4948 - accuracy: 0.4614 - val_loss: 1.6144 - val_accuracy: 0.4296\n",
            "Epoch 19/50\n",
            "524/524 [==============================] - 7s 14ms/step - loss: 1.4704 - accuracy: 0.4730 - val_loss: 1.5629 - val_accuracy: 0.4467\n",
            "Epoch 20/50\n",
            "524/524 [==============================] - 7s 14ms/step - loss: 1.4563 - accuracy: 0.4779 - val_loss: 1.5992 - val_accuracy: 0.4370\n",
            "Epoch 21/50\n",
            "524/524 [==============================] - 7s 14ms/step - loss: 1.4316 - accuracy: 0.4867 - val_loss: 1.5614 - val_accuracy: 0.4552\n",
            "Epoch 22/50\n",
            "524/524 [==============================] - 7s 14ms/step - loss: 1.4150 - accuracy: 0.4927 - val_loss: 1.5452 - val_accuracy: 0.4584\n",
            "Epoch 23/50\n",
            "524/524 [==============================] - 8s 15ms/step - loss: 1.3985 - accuracy: 0.4997 - val_loss: 1.5400 - val_accuracy: 0.4618\n",
            "Epoch 24/50\n",
            "524/524 [==============================] - 7s 14ms/step - loss: 1.3704 - accuracy: 0.5081 - val_loss: 1.5504 - val_accuracy: 0.4627\n",
            "Epoch 25/50\n",
            "524/524 [==============================] - 7s 14ms/step - loss: 1.3587 - accuracy: 0.5147 - val_loss: 1.5647 - val_accuracy: 0.4566\n",
            "Epoch 26/50\n",
            "524/524 [==============================] - 8s 14ms/step - loss: 1.3447 - accuracy: 0.5185 - val_loss: 1.5349 - val_accuracy: 0.4679\n",
            "Epoch 27/50\n",
            "524/524 [==============================] - 8s 14ms/step - loss: 1.3196 - accuracy: 0.5262 - val_loss: 1.5555 - val_accuracy: 0.4630\n",
            "Epoch 28/50\n",
            "524/524 [==============================] - 7s 14ms/step - loss: 1.3053 - accuracy: 0.5290 - val_loss: 1.5599 - val_accuracy: 0.4662\n",
            "Epoch 29/50\n",
            "524/524 [==============================] - 8s 14ms/step - loss: 1.2794 - accuracy: 0.5447 - val_loss: 1.5812 - val_accuracy: 0.4684\n",
            "Epoch 30/50\n",
            "524/524 [==============================] - 8s 14ms/step - loss: 1.1746 - accuracy: 0.5791 - val_loss: 1.5437 - val_accuracy: 0.4854\n",
            "Epoch 31/50\n",
            "524/524 [==============================] - 7s 14ms/step - loss: 1.1511 - accuracy: 0.5842 - val_loss: 1.5499 - val_accuracy: 0.4835\n",
            "Epoch 32/50\n",
            "524/524 [==============================] - 8s 14ms/step - loss: 1.1424 - accuracy: 0.5881 - val_loss: 1.5507 - val_accuracy: 0.4859\n",
            "Epoch 33/50\n",
            "524/524 [==============================] - 7s 14ms/step - loss: 1.1318 - accuracy: 0.5913 - val_loss: 1.5526 - val_accuracy: 0.4861\n",
            "Epoch 34/50\n",
            "524/524 [==============================] - 7s 14ms/step - loss: 1.1251 - accuracy: 0.5927 - val_loss: 1.5525 - val_accuracy: 0.4871\n",
            "Epoch 35/50\n",
            "524/524 [==============================] - 7s 14ms/step - loss: 1.1225 - accuracy: 0.5963 - val_loss: 1.5544 - val_accuracy: 0.4861\n",
            "Epoch 36/50\n",
            "524/524 [==============================] - 7s 14ms/step - loss: 1.1244 - accuracy: 0.5920 - val_loss: 1.5543 - val_accuracy: 0.4859\n",
            "Epoch 37/50\n",
            "524/524 [==============================] - 7s 14ms/step - loss: 1.1202 - accuracy: 0.5970 - val_loss: 1.5544 - val_accuracy: 0.4862\n",
            "Epoch 38/50\n",
            "524/524 [==============================] - 8s 15ms/step - loss: 1.1258 - accuracy: 0.5930 - val_loss: 1.5544 - val_accuracy: 0.4867\n",
            "Epoch 39/50\n",
            "524/524 [==============================] - 7s 14ms/step - loss: 1.1187 - accuracy: 0.5960 - val_loss: 1.5544 - val_accuracy: 0.4861\n",
            "Epoch 40/50\n",
            "524/524 [==============================] - 8s 14ms/step - loss: 1.1225 - accuracy: 0.5956 - val_loss: 1.5545 - val_accuracy: 0.4866\n",
            "Epoch 41/50\n",
            "524/524 [==============================] - 8s 15ms/step - loss: 1.1206 - accuracy: 0.5972 - val_loss: 1.5545 - val_accuracy: 0.4862\n",
            "Epoch 42/50\n",
            "524/524 [==============================] - 8s 15ms/step - loss: 1.1199 - accuracy: 0.5953 - val_loss: 1.5545 - val_accuracy: 0.4865\n",
            "Epoch 43/50\n",
            "524/524 [==============================] - 8s 15ms/step - loss: 1.1243 - accuracy: 0.5933 - val_loss: 1.5545 - val_accuracy: 0.4864\n",
            "Epoch 44/50\n",
            "524/524 [==============================] - 8s 14ms/step - loss: 1.1222 - accuracy: 0.5957 - val_loss: 1.5545 - val_accuracy: 0.4865\n",
            "Epoch 45/50\n",
            "524/524 [==============================] - 8s 15ms/step - loss: 1.1203 - accuracy: 0.5952 - val_loss: 1.5545 - val_accuracy: 0.4865\n",
            "Epoch 46/50\n",
            "524/524 [==============================] - 8s 15ms/step - loss: 1.1222 - accuracy: 0.5950 - val_loss: 1.5545 - val_accuracy: 0.4866\n",
            "Epoch 47/50\n",
            "524/524 [==============================] - 8s 15ms/step - loss: 1.1187 - accuracy: 0.5951 - val_loss: 1.5545 - val_accuracy: 0.4866\n",
            "Epoch 48/50\n",
            "524/524 [==============================] - 8s 14ms/step - loss: 1.1210 - accuracy: 0.5928 - val_loss: 1.5545 - val_accuracy: 0.4866\n",
            "Epoch 49/50\n",
            "524/524 [==============================] - 8s 15ms/step - loss: 1.1220 - accuracy: 0.5946 - val_loss: 1.5545 - val_accuracy: 0.4866\n",
            "Epoch 50/50\n",
            "524/524 [==============================] - 8s 15ms/step - loss: 1.1223 - accuracy: 0.5931 - val_loss: 1.5545 - val_accuracy: 0.4866\n"
          ]
        }
      ]
    },
    {
      "cell_type": "code",
      "metadata": {
        "colab": {
          "base_uri": "https://localhost:8080/"
        },
        "id": "Ouq0LMeN8ygW",
        "outputId": "17dfdc7c-c420-40d8-95d1-1e9900991acb"
      },
      "source": [
        "# evaluating model\n",
        "model.evaluate(\n",
        "    testX, testY, batch_size=64, verbose=1, sample_weight=None, steps=None,\n",
        "    callbacks=None, max_queue_size=10, workers=1, use_multiprocessing=False,\n",
        "    return_dict=False\n",
        ")"
      ],
      "execution_count": null,
      "outputs": [
        {
          "output_type": "stream",
          "name": "stdout",
          "text": [
            "157/157 [==============================] - 3s 15ms/step - loss: 1.5463 - accuracy: 0.4917\n"
          ]
        },
        {
          "output_type": "execute_result",
          "data": {
            "text/plain": [
              "[1.5462599992752075, 0.4916999936103821]"
            ]
          },
          "metadata": {},
          "execution_count": 25
        }
      ]
    },
    {
      "cell_type": "code",
      "metadata": {
        "colab": {
          "base_uri": "https://localhost:8080/",
          "height": 545
        },
        "id": "YGhBc1ixlPa_",
        "outputId": "4904f545-2be4-4fda-a094-5eee08b3a654"
      },
      "source": [
        "# plotting the model's training and validation accuracy and loss \n",
        "%matplotlib inline\n",
        "import matplotlib.pyplot as plt\n",
        "acc = history_3.history['accuracy']\n",
        "val_acc = history_3.history['val_accuracy']\n",
        "loss = history_3.history['loss']\n",
        "val_loss = history_3.history['val_loss']\n",
        "\n",
        "epochs = range(len(acc))\n",
        "\n",
        "plt.plot(epochs, acc, 'r', label='Training accuracy')\n",
        "plt.plot(epochs, val_acc, 'b', label='Validation accuracy')\n",
        "plt.title('Training and validation accuracy')\n",
        "plt.legend()\n",
        "plt.figure()\n",
        "\n",
        "plt.plot(epochs, loss, 'r', label='Training Loss')\n",
        "plt.plot(epochs, val_loss, 'b', label='Validation Loss')\n",
        "plt.title('Training and validation loss')\n",
        "plt.legend()\n",
        "\n",
        "plt.show()"
      ],
      "execution_count": null,
      "outputs": [
        {
          "output_type": "display_data",
          "data": {
            "image/png": "[encoded data removed]",
            "text/plain": [
              "<Figure size 432x288 with 1 Axes>"
            ]
          },
          "metadata": {
            "needs_background": "light"
          }
        },
        {
          "output_type": "display_data",
          "data": {
            "image/png": "[encoded data removed]",
            "text/plain": [
              "<Figure size 432x288 with 1 Axes>"
            ]
          },
          "metadata": {
            "needs_background": "light"
          }
        }
      ]
    },
    {
      "cell_type": "markdown",
      "metadata": {
        "id": "SpIa148Ra9pL"
      },
      "source": [
        "# Q2. Different Types of skip connection"
      ]
    },
    {
      "cell_type": "markdown",
      "metadata": {
        "id": "lur7P6L-4kGg"
      },
      "source": [
        "|  Dataset \t| Single Skip  \t|  Double Skip \t|  Dense Skip \t|   \t|   \t|   \t|\n",
        "|:-:\t|:-:\t|:-:\t|:-:\t|---\t|---\t|---\t|\n",
        "| MNIST  \t|  97.34% \t|  97.54% \t| 96.47%  \t|   \t|   \t|   \t|\n",
        "| CIFAR  \t|  49.17% \t| 47.59%  \t| 43.15  \t|   \t|   \t|   \t|"
      ]
    },
    {
      "cell_type": "markdown",
      "metadata": {
        "id": "mO_m4Bme64ry"
      },
      "source": [
        "Reason for this results - We see that the Double skip model performs similar/ or somewhat better than the normal skip connections, this can be accounted to the fact that it may help reduce the vanishing gradient problem more, and help better paths in the backprop graph.\n",
        "<br>\n",
        "<br>\n",
        "It can also be seen that the model which has a lot of skip connections (Dense Skip) performs worse than the single and double skip, as it tends to increase the gradients to an un-required high level, and also causes some of the noise that is ideally filtered to again propagate forward using this skip connections. So after performing these experiments we conclude that, there is a particular threshold untill which we can increase the number of skip connections after which the performance starts to deteriorate "
      ]
    },
    {
      "cell_type": "markdown",
      "metadata": {
        "id": "rKk_qyT_68oP"
      },
      "source": [
        "Code Ahead ->"
      ]
    },
    {
      "cell_type": "markdown",
      "metadata": {
        "id": "D0r563wD0uzH"
      },
      "source": [
        "Double Skip (Better than single skip)"
      ]
    },
    {
      "cell_type": "markdown",
      "metadata": {
        "id": "s1IhEszD7bMu"
      },
      "source": [
        "![c.png](data:image/png;base64,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)"
      ]
    },
    {
      "cell_type": "code",
      "metadata": {
        "colab": {
          "base_uri": "https://localhost:8080/"
        },
        "id": "0rsS8fTh5T72",
        "outputId": "eceb87c5-56f1-46eb-99cc-40a59d1ae90e"
      },
      "source": [
        "#creating model\n",
        "def create_model():\n",
        "    inputs = Input(shape=(32,32,3))\n",
        "    input = tf.keras.layers.Flatten(input_shape=(32,32,3))(inputs)\n",
        "    x = tf.keras.layers.Dense(512, activation=tf.nn.relu)(input)\n",
        "\n",
        "    w = tf.keras.layers.Dense(256, activation=tf.nn.relu)(x)\n",
        "    z = tf.keras.layers.Dense(256, activation=tf.nn.relu)(w)\n",
        "    z = Add()([z,w])\n",
        "    x = tf.keras.layers.Dense(256, activation=tf.nn.relu)(z)\n",
        "    z = tf.keras.layers.Dense(256, activation=tf.nn.relu)(x)\n",
        "    z = Add()([z,w])\n",
        "    z = tf.keras.layers.Dropout(0.3)(z)\n",
        "\n",
        "    w = tf.keras.layers.Dense(128, activation=tf.nn.relu)(z)\n",
        "    z = tf.keras.layers.Dense(128, activation=tf.nn.relu)(w)\n",
        "    z = Add()([z,w])\n",
        "    x = tf.keras.layers.Dense(128, activation=tf.nn.relu)(z)\n",
        "    z = tf.keras.layers.Dense(128, activation=tf.nn.relu)(x)\n",
        "    z = Add()([z,w])\n",
        "    z = tf.keras.layers.Dropout(0.3)(z)\n",
        "\n",
        "    w = tf.keras.layers.Dense(64, activation=tf.nn.relu)(z)\n",
        "    z = tf.keras.layers.Dense(64, activation=tf.nn.relu)(w)\n",
        "    z = Add()([z,w])\n",
        "    x = tf.keras.layers.Dense(64, activation=tf.nn.relu)(z)\n",
        "    z = tf.keras.layers.Dense(64, activation=tf.nn.relu)(x)\n",
        "    z = Add()([z,w])\n",
        "    z = tf.keras.layers.Dropout(0.3)(z)\n",
        "\n",
        "    w = tf.keras.layers.Dense(32, activation=tf.nn.relu)(z)\n",
        "    z = tf.keras.layers.Dense(32, activation=tf.nn.relu)(w)\n",
        "    z = Add()([z,w])\n",
        "    x = tf.keras.layers.Dense(32, activation=tf.nn.relu)(z)\n",
        "    z = tf.keras.layers.Dense(32, activation=tf.nn.relu)(x)\n",
        "    z = Add()([z,w])\n",
        "\n",
        "    z = tf.keras.layers.Dense(10, activation=tf.nn.softmax)(z)\n",
        "    model = Model(inputs, z)\n",
        "    model.compile(optimizer=tf.keras.optimizers.Adam(0.0001),loss='sparse_categorical_crossentropy', metrics=['accuracy'])\n",
        "    return model\n",
        "\n",
        "# to run model on tpu\n",
        "with tpu_strategy.scope():\n",
        "    model = create_model()\n",
        "\n",
        "# loading cifar10 dataset\n",
        "(trainX, trainY),(testX, testY) = cifar10.load_data()\n",
        "\n",
        "# splitting the training data in training and validation data\n",
        "trainX, valX, trainY, valY = train_test_split(trainX, trainY, test_size=0.33, random_state=42)\n",
        "\n",
        "# normalizing the image\n",
        "trainX,valX, testX = normalize_image(trainX,valX, testX)\n",
        "  \n",
        "# fit model\n",
        "history_2 = model.fit(trainX, trainY,validation_data=(valX,valY), epochs=50, batch_size=64, verbose=1,callbacks=[callback])"
      ],
      "execution_count": null,
      "outputs": [
        {
          "output_type": "stream",
          "name": "stdout",
          "text": [
            "Epoch 1/50\n",
            "524/524 [==============================] - 23s 29ms/step - loss: 2.2197 - accuracy: 0.1546 - val_loss: 2.0113 - val_accuracy: 0.2523\n",
            "Epoch 2/50\n",
            "524/524 [==============================] - 8s 14ms/step - loss: 2.0131 - accuracy: 0.2368 - val_loss: 1.8820 - val_accuracy: 0.3199\n",
            "Epoch 3/50\n",
            "524/524 [==============================] - 8s 15ms/step - loss: 1.9206 - accuracy: 0.2828 - val_loss: 1.8449 - val_accuracy: 0.3132\n",
            "Epoch 4/50\n",
            "524/524 [==============================] - 8s 16ms/step - loss: 1.8613 - accuracy: 0.3117 - val_loss: 1.7781 - val_accuracy: 0.3537\n",
            "Epoch 5/50\n",
            "524/524 [==============================] - 8s 15ms/step - loss: 1.8088 - accuracy: 0.3339 - val_loss: 1.7454 - val_accuracy: 0.3575\n",
            "Epoch 6/50\n",
            "524/524 [==============================] - 8s 15ms/step - loss: 1.7675 - accuracy: 0.3549 - val_loss: 1.7335 - val_accuracy: 0.3611\n",
            "Epoch 7/50\n",
            "524/524 [==============================] - 8s 15ms/step - loss: 1.7272 - accuracy: 0.3734 - val_loss: 1.6510 - val_accuracy: 0.3967\n",
            "Epoch 8/50\n",
            "524/524 [==============================] - 8s 15ms/step - loss: 1.6923 - accuracy: 0.3884 - val_loss: 1.6387 - val_accuracy: 0.4102\n",
            "Epoch 9/50\n",
            "524/524 [==============================] - 8s 15ms/step - loss: 1.6571 - accuracy: 0.4024 - val_loss: 1.6368 - val_accuracy: 0.4127\n",
            "Epoch 10/50\n",
            "524/524 [==============================] - 8s 15ms/step - loss: 1.6360 - accuracy: 0.4122 - val_loss: 1.5896 - val_accuracy: 0.4262\n",
            "Epoch 11/50\n",
            "524/524 [==============================] - 8s 15ms/step - loss: 1.6086 - accuracy: 0.4213 - val_loss: 1.6231 - val_accuracy: 0.4222\n",
            "Epoch 12/50\n",
            "524/524 [==============================] - 8s 15ms/step - loss: 1.5799 - accuracy: 0.4335 - val_loss: 1.5587 - val_accuracy: 0.4406\n",
            "Epoch 13/50\n",
            "524/524 [==============================] - 8s 15ms/step - loss: 1.5573 - accuracy: 0.4396 - val_loss: 1.5447 - val_accuracy: 0.4557\n",
            "Epoch 14/50\n",
            "524/524 [==============================] - 8s 14ms/step - loss: 1.5403 - accuracy: 0.4513 - val_loss: 1.5465 - val_accuracy: 0.4465\n",
            "Epoch 15/50\n",
            "524/524 [==============================] - 7s 14ms/step - loss: 1.5198 - accuracy: 0.4569 - val_loss: 1.5654 - val_accuracy: 0.4396\n",
            "Epoch 16/50\n",
            "524/524 [==============================] - 8s 15ms/step - loss: 1.4412 - accuracy: 0.4854 - val_loss: 1.4960 - val_accuracy: 0.4693\n",
            "Epoch 17/50\n",
            "524/524 [==============================] - 8s 14ms/step - loss: 1.4151 - accuracy: 0.4935 - val_loss: 1.4939 - val_accuracy: 0.4732\n",
            "Epoch 18/50\n",
            "524/524 [==============================] - 8s 15ms/step - loss: 1.4126 - accuracy: 0.4952 - val_loss: 1.4919 - val_accuracy: 0.4741\n",
            "Epoch 19/50\n",
            "524/524 [==============================] - 8s 15ms/step - loss: 1.4036 - accuracy: 0.4997 - val_loss: 1.4961 - val_accuracy: 0.4708\n",
            "Epoch 20/50\n",
            "524/524 [==============================] - 8s 15ms/step - loss: 1.3960 - accuracy: 0.5002 - val_loss: 1.4926 - val_accuracy: 0.4736\n",
            "Epoch 21/50\n",
            "524/524 [==============================] - 8s 15ms/step - loss: 1.3859 - accuracy: 0.5035 - val_loss: 1.4902 - val_accuracy: 0.4752\n",
            "Epoch 22/50\n",
            "524/524 [==============================] - 8s 15ms/step - loss: 1.3840 - accuracy: 0.5039 - val_loss: 1.4894 - val_accuracy: 0.4756\n",
            "Epoch 23/50\n",
            "524/524 [==============================] - 8s 15ms/step - loss: 1.3808 - accuracy: 0.5064 - val_loss: 1.4900 - val_accuracy: 0.4761\n",
            "Epoch 24/50\n",
            "524/524 [==============================] - 8s 15ms/step - loss: 1.3826 - accuracy: 0.5067 - val_loss: 1.4898 - val_accuracy: 0.4755\n",
            "Epoch 25/50\n",
            "524/524 [==============================] - 8s 15ms/step - loss: 1.3795 - accuracy: 0.5060 - val_loss: 1.4895 - val_accuracy: 0.4761\n",
            "Epoch 26/50\n",
            "524/524 [==============================] - 8s 15ms/step - loss: 1.3802 - accuracy: 0.5059 - val_loss: 1.4893 - val_accuracy: 0.4757\n",
            "Epoch 27/50\n",
            "524/524 [==============================] - 8s 15ms/step - loss: 1.3827 - accuracy: 0.5056 - val_loss: 1.4893 - val_accuracy: 0.4762\n",
            "Epoch 28/50\n",
            "524/524 [==============================] - 8s 15ms/step - loss: 1.3790 - accuracy: 0.5068 - val_loss: 1.4893 - val_accuracy: 0.4761\n",
            "Epoch 29/50\n",
            "524/524 [==============================] - 8s 15ms/step - loss: 1.3785 - accuracy: 0.5072 - val_loss: 1.4893 - val_accuracy: 0.4768\n",
            "Epoch 30/50\n",
            "524/524 [==============================] - 8s 15ms/step - loss: 1.3771 - accuracy: 0.5076 - val_loss: 1.4893 - val_accuracy: 0.4764\n",
            "Epoch 31/50\n",
            "524/524 [==============================] - 8s 15ms/step - loss: 1.3792 - accuracy: 0.5058 - val_loss: 1.4893 - val_accuracy: 0.4766\n",
            "Epoch 32/50\n",
            "524/524 [==============================] - 8s 15ms/step - loss: 1.3806 - accuracy: 0.5053 - val_loss: 1.4892 - val_accuracy: 0.4761\n",
            "Epoch 33/50\n",
            "524/524 [==============================] - 8s 15ms/step - loss: 1.3795 - accuracy: 0.5062 - val_loss: 1.4893 - val_accuracy: 0.4766\n",
            "Epoch 34/50\n",
            "524/524 [==============================] - 8s 15ms/step - loss: 1.3784 - accuracy: 0.5066 - val_loss: 1.4893 - val_accuracy: 0.4759\n",
            "Epoch 35/50\n",
            "524/524 [==============================] - 8s 15ms/step - loss: 1.3785 - accuracy: 0.5076 - val_loss: 1.4893 - val_accuracy: 0.4760\n",
            "Epoch 36/50\n",
            "524/524 [==============================] - 8s 15ms/step - loss: 1.3773 - accuracy: 0.5044 - val_loss: 1.4893 - val_accuracy: 0.4759\n",
            "Epoch 37/50\n",
            "524/524 [==============================] - 8s 15ms/step - loss: 1.3794 - accuracy: 0.5039 - val_loss: 1.4893 - val_accuracy: 0.4759\n",
            "Epoch 38/50\n",
            "524/524 [==============================] - 8s 15ms/step - loss: 1.3755 - accuracy: 0.5062 - val_loss: 1.4893 - val_accuracy: 0.4759\n",
            "Epoch 39/50\n",
            "524/524 [==============================] - 8s 15ms/step - loss: 1.3812 - accuracy: 0.5058 - val_loss: 1.4893 - val_accuracy: 0.4759\n",
            "Epoch 40/50\n",
            "524/524 [==============================] - 8s 15ms/step - loss: 1.3813 - accuracy: 0.5051 - val_loss: 1.4893 - val_accuracy: 0.4759\n",
            "Epoch 41/50\n",
            "524/524 [==============================] - 8s 15ms/step - loss: 1.3791 - accuracy: 0.5057 - val_loss: 1.4893 - val_accuracy: 0.4759\n",
            "Epoch 42/50\n",
            "524/524 [==============================] - 8s 15ms/step - loss: 1.3787 - accuracy: 0.5043 - val_loss: 1.4893 - val_accuracy: 0.4759\n",
            "Epoch 43/50\n",
            "524/524 [==============================] - 8s 15ms/step - loss: 1.3794 - accuracy: 0.5087 - val_loss: 1.4893 - val_accuracy: 0.4759\n",
            "Epoch 44/50\n",
            "524/524 [==============================] - 8s 15ms/step - loss: 1.3777 - accuracy: 0.5092 - val_loss: 1.4893 - val_accuracy: 0.4759\n",
            "Epoch 45/50\n",
            "524/524 [==============================] - 8s 15ms/step - loss: 1.3758 - accuracy: 0.5084 - val_loss: 1.4893 - val_accuracy: 0.4759\n",
            "Epoch 46/50\n",
            "524/524 [==============================] - 8s 14ms/step - loss: 1.3806 - accuracy: 0.5090 - val_loss: 1.4893 - val_accuracy: 0.4759\n",
            "Epoch 47/50\n",
            "524/524 [==============================] - 8s 14ms/step - loss: 1.3775 - accuracy: 0.5062 - val_loss: 1.4893 - val_accuracy: 0.4759\n",
            "Epoch 48/50\n",
            "524/524 [==============================] - 8s 15ms/step - loss: 1.3795 - accuracy: 0.5062 - val_loss: 1.4893 - val_accuracy: 0.4759\n",
            "Epoch 49/50\n",
            "524/524 [==============================] - 8s 15ms/step - loss: 1.3763 - accuracy: 0.5084 - val_loss: 1.4893 - val_accuracy: 0.4759\n",
            "Epoch 50/50\n",
            "524/524 [==============================] - 8s 15ms/step - loss: 1.3798 - accuracy: 0.5019 - val_loss: 1.4893 - val_accuracy: 0.4759\n"
          ]
        },
        {
          "output_type": "stream",
          "name": "stderr",
          "text": [
            "/usr/local/lib/python3.7/dist-packages/keras/utils/generic_utils.py:497: CustomMaskWarning: Custom mask layers require a config and must override get_config. When loading, the custom mask layer must be passed to the custom_objects argument.\n",
            "  category=CustomMaskWarning)\n"
          ]
        }
      ]
    },
    {
      "cell_type": "code",
      "metadata": {
        "colab": {
          "base_uri": "https://localhost:8080/"
        },
        "id": "NjUE6XJMApqT",
        "outputId": "b692c917-6a04-4f00-9546-53cf730c4f0d"
      },
      "source": [
        "# evaluting model\n",
        "model.evaluate(\n",
        "    testX, testY, batch_size=64, verbose=1, sample_weight=None, steps=None,\n",
        "    callbacks=None, max_queue_size=10, workers=1, use_multiprocessing=False,\n",
        "    return_dict=False\n",
        ")"
      ],
      "execution_count": null,
      "outputs": [
        {
          "output_type": "stream",
          "name": "stdout",
          "text": [
            "157/157 [==============================] - 3s 15ms/step - loss: 1.4708 - accuracy: 0.4816\n"
          ]
        },
        {
          "output_type": "execute_result",
          "data": {
            "text/plain": [
              "[1.4708495140075684, 0.48159998655319214]"
            ]
          },
          "metadata": {},
          "execution_count": 41
        }
      ]
    },
    {
      "cell_type": "code",
      "metadata": {
        "colab": {
          "base_uri": "https://localhost:8080/"
        },
        "id": "mlTo2FxFu5Um",
        "outputId": "eb5e6d19-e4b9-4fe9-f0b4-7b7765da3291"
      },
      "source": [
        "# F1 score\n",
        "from sklearn.metrics import f1_score\n",
        "pred_Y = model.predict(testX).argmax(axis=1)\n",
        "f1_score(testY, pred_Y, average='micro')"
      ],
      "execution_count": null,
      "outputs": [
        {
          "output_type": "execute_result",
          "data": {
            "text/plain": [
              "0.4816"
            ]
          },
          "metadata": {},
          "execution_count": 46
        }
      ]
    },
    {
      "cell_type": "code",
      "metadata": {
        "colab": {
          "base_uri": "https://localhost:8080/",
          "height": 545
        },
        "id": "iuuvYdVFrKzs",
        "outputId": "7af9d9f1-e182-4ff1-a142-82c05a360a7d"
      },
      "source": [
        "# plotting the model's training and validation accuracy and loss \n",
        "%matplotlib inline\n",
        "import matplotlib.pyplot as plt\n",
        "acc = history_3.history['accuracy']\n",
        "val_acc = history_3.history['val_accuracy']\n",
        "loss = history_3.history['loss']\n",
        "val_loss = history_3.history['val_loss']\n",
        "\n",
        "epochs = range(len(acc))\n",
        "\n",
        "plt.plot(epochs, acc, 'r', label='Training accuracy')\n",
        "plt.plot(epochs, val_acc, 'b', label='Validation accuracy')\n",
        "plt.title('Training and validation accuracy')\n",
        "plt.legend()\n",
        "plt.figure()\n",
        "\n",
        "plt.plot(epochs, loss, 'r', label='Training Loss')\n",
        "plt.plot(epochs, val_loss, 'b', label='Validation Loss')\n",
        "plt.title('Training and validation loss')\n",
        "plt.legend()\n",
        "\n",
        "plt.show()"
      ],
      "execution_count": null,
      "outputs": [
        {
          "output_type": "display_data",
          "data": {
            "image/png": "[encoded data removed]",
            "text/plain": [
              "<Figure size 432x288 with 1 Axes>"
            ]
          },
          "metadata": {
            "needs_background": "light"
          }
        },
        {
          "output_type": "display_data",
          "data": {
            "image/png": "[encoded data removed]",
            "text/plain": [
              "<Figure size 432x288 with 1 Axes>"
            ]
          },
          "metadata": {
            "needs_background": "light"
          }
        }
      ]
    },
    {
      "cell_type": "markdown",
      "metadata": {
        "id": "O0bwErQaAdbl"
      },
      "source": [
        "Dense Skip **(Poor performance)**"
      ]
    },
    {
      "cell_type": "markdown",
      "metadata": {
        "id": "4F8XxpYWwULY"
      },
      "source": [
        "![WhatsApp Image 2021-09-25 at 9.15.33 PM.jpeg](data:image/jpeg;base64,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)"
      ]
    },
    {
      "cell_type": "code",
      "metadata": {
        "colab": {
          "base_uri": "https://localhost:8080/"
        },
        "id": "FvXrVn14DUwr",
        "outputId": "0e7943bd-aa03-4016-9365-e60e6c2995f3"
      },
      "source": [
        "#create model\n",
        "def create_model():\n",
        "    inputs = Input(shape=(32,32,3))\n",
        "    input = tf.keras.layers.Flatten(input_shape=(32,32,3))(inputs)\n",
        "    x = tf.keras.layers.Dense(512, activation=tf.nn.relu)(input)\n",
        "\n",
        "    a = tf.keras.layers.Dense(256, activation=tf.nn.relu)(x)\n",
        "    b = tf.keras.layers.Dense(256, activation=tf.nn.relu)(a)\n",
        "    b = Add()([a,b])\n",
        "    c = tf.keras.layers.Dense(256, activation=tf.nn.relu)(b)\n",
        "    c = Add()([a,b,c])\n",
        "    d = tf.keras.layers.Dense(256, activation=tf.nn.relu)(c)\n",
        "    d = Add()([a,b,c,d])\n",
        "\n",
        "    a = tf.keras.layers.Dense(128, activation=tf.nn.relu)(d)\n",
        "    b = tf.keras.layers.Dense(128, activation=tf.nn.relu)(a)\n",
        "    b = Add()([a,b])\n",
        "    c = tf.keras.layers.Dense(128, activation=tf.nn.relu)(b)\n",
        "    c = Add()([a,b,c])\n",
        "    d = tf.keras.layers.Dense(128, activation=tf.nn.relu)(c)\n",
        "    d = Add()([a,b,c,d])\n",
        "\n",
        "    a = tf.keras.layers.Dense(64, activation=tf.nn.relu)(d)\n",
        "    b = tf.keras.layers.Dense(64, activation=tf.nn.relu)(a)\n",
        "    b = Add()([a,b])\n",
        "    c = tf.keras.layers.Dense(64, activation=tf.nn.relu)(b)\n",
        "    c = Add()([a,b,c])\n",
        "    d = tf.keras.layers.Dense(64, activation=tf.nn.relu)(c)\n",
        "    d = Add()([a,b,c,d])\n",
        "\n",
        "    a = tf.keras.layers.Dense(32, activation=tf.nn.relu)(d)\n",
        "    b = tf.keras.layers.Dense(32, activation=tf.nn.relu)(a)\n",
        "    b = Add()([a,b])\n",
        "    c = tf.keras.layers.Dense(32, activation=tf.nn.relu)(b)\n",
        "    c = Add()([a,b,c])\n",
        "    d = tf.keras.layers.Dense(32, activation=tf.nn.relu)(c)\n",
        "    d = Add()([a,b,c,d])\n",
        "\n",
        "    z = tf.keras.layers.Dense(10, activation=tf.nn.softmax)(d)\n",
        "    model = Model(inputs, z)\n",
        "    model.compile(optimizer=tf.keras.optimizers.Adam(0.0001),loss='sparse_categorical_crossentropy', metrics=['accuracy'])\n",
        "    return model\n",
        "\n",
        "# to run model on tpu\n",
        "with tpu_strategy.scope():\n",
        "    model = create_model()\n",
        "\n",
        "# loading cifar10 dataset\n",
        "(trainX, trainY),(testX, testY) = cifar10.load_data()\n",
        "\n",
        "# splitting the training data in training and validation data\n",
        "trainX, valX, trainY, valY = train_test_split(trainX, trainY, test_size=0.33, random_state=42)\n",
        "\n",
        "# normalizing the image\n",
        "trainX,valX, testX = normalize_image(trainX,valX, testX)\n",
        "\n",
        "# fit model\n",
        "history_3 = model.fit(trainX, trainY, validation_data=(valX,valY),epochs=50, batch_size=64, verbose=1,callbacks=[callback])"
      ],
      "execution_count": null,
      "outputs": [
        {
          "output_type": "stream",
          "name": "stdout",
          "text": [
            "Epoch 1/50\n",
            "524/524 [==============================] - 23s 30ms/step - loss: 8.2481 - accuracy: 0.1887 - val_loss: 2.4551 - val_accuracy: 0.2468\n",
            "Epoch 2/50\n",
            "524/524 [==============================] - 7s 14ms/step - loss: 2.1990 - accuracy: 0.2757 - val_loss: 2.0721 - val_accuracy: 0.2975\n",
            "Epoch 3/50\n",
            "524/524 [==============================] - 8s 15ms/step - loss: 2.0036 - accuracy: 0.3101 - val_loss: 2.0752 - val_accuracy: 0.3072\n",
            "Epoch 4/50\n",
            "524/524 [==============================] - 8s 15ms/step - loss: 1.8884 - accuracy: 0.3378 - val_loss: 1.8102 - val_accuracy: 0.3545\n",
            "Epoch 5/50\n",
            "524/524 [==============================] - 8s 15ms/step - loss: 1.8231 - accuracy: 0.3579 - val_loss: 1.8324 - val_accuracy: 0.3541\n",
            "Epoch 6/50\n",
            "524/524 [==============================] - 8s 14ms/step - loss: 1.7837 - accuracy: 0.3672 - val_loss: 1.8128 - val_accuracy: 0.3686\n",
            "Epoch 7/50\n",
            "524/524 [==============================] - 8s 15ms/step - loss: 1.6005 - accuracy: 0.4356 - val_loss: 1.6720 - val_accuracy: 0.4138\n",
            "Epoch 8/50\n",
            "524/524 [==============================] - 8s 15ms/step - loss: 1.5759 - accuracy: 0.4415 - val_loss: 1.6650 - val_accuracy: 0.4145\n",
            "Epoch 9/50\n",
            "524/524 [==============================] - 8s 15ms/step - loss: 1.5614 - accuracy: 0.4456 - val_loss: 1.6731 - val_accuracy: 0.4144\n",
            "Epoch 10/50\n",
            "524/524 [==============================] - 8s 14ms/step - loss: 1.5508 - accuracy: 0.4507 - val_loss: 1.6618 - val_accuracy: 0.4150\n",
            "Epoch 11/50\n",
            "524/524 [==============================] - 8s 15ms/step - loss: 1.5392 - accuracy: 0.4542 - val_loss: 1.6509 - val_accuracy: 0.4223\n",
            "Epoch 12/50\n",
            "524/524 [==============================] - 8s 15ms/step - loss: 1.5292 - accuracy: 0.4566 - val_loss: 1.6442 - val_accuracy: 0.4232\n",
            "Epoch 13/50\n",
            "524/524 [==============================] - 8s 15ms/step - loss: 1.5106 - accuracy: 0.4636 - val_loss: 1.6536 - val_accuracy: 0.4193\n",
            "Epoch 14/50\n",
            "524/524 [==============================] - 8s 14ms/step - loss: 1.5032 - accuracy: 0.4682 - val_loss: 1.6689 - val_accuracy: 0.4092\n",
            "Epoch 15/50\n",
            "524/524 [==============================] - 8s 14ms/step - loss: 1.4562 - accuracy: 0.4867 - val_loss: 1.6284 - val_accuracy: 0.4304\n",
            "Epoch 16/50\n",
            "524/524 [==============================] - 8s 14ms/step - loss: 1.4482 - accuracy: 0.4886 - val_loss: 1.6253 - val_accuracy: 0.4313\n",
            "Epoch 17/50\n",
            "524/524 [==============================] - 8s 14ms/step - loss: 1.4463 - accuracy: 0.4894 - val_loss: 1.6248 - val_accuracy: 0.4334\n",
            "Epoch 18/50\n",
            "524/524 [==============================] - 8s 15ms/step - loss: 1.4431 - accuracy: 0.4894 - val_loss: 1.6257 - val_accuracy: 0.4313\n",
            "Epoch 19/50\n",
            "524/524 [==============================] - 8s 14ms/step - loss: 1.4416 - accuracy: 0.4927 - val_loss: 1.6249 - val_accuracy: 0.4322\n",
            "Epoch 20/50\n",
            "524/524 [==============================] - 8s 15ms/step - loss: 1.4356 - accuracy: 0.4945 - val_loss: 1.6237 - val_accuracy: 0.4335\n",
            "Epoch 21/50\n",
            "524/524 [==============================] - 8s 15ms/step - loss: 1.4350 - accuracy: 0.4960 - val_loss: 1.6225 - val_accuracy: 0.4310\n",
            "Epoch 22/50\n",
            "524/524 [==============================] - 8s 15ms/step - loss: 1.4346 - accuracy: 0.4945 - val_loss: 1.6231 - val_accuracy: 0.4324\n",
            "Epoch 23/50\n",
            "524/524 [==============================] - 8s 15ms/step - loss: 1.4335 - accuracy: 0.4952 - val_loss: 1.6223 - val_accuracy: 0.4318\n",
            "Epoch 24/50\n",
            "524/524 [==============================] - 8s 14ms/step - loss: 1.4336 - accuracy: 0.4959 - val_loss: 1.6233 - val_accuracy: 0.4319\n",
            "Epoch 25/50\n",
            "524/524 [==============================] - 8s 15ms/step - loss: 1.4344 - accuracy: 0.4957 - val_loss: 1.6242 - val_accuracy: 0.4312\n",
            "Epoch 26/50\n",
            "524/524 [==============================] - 8s 14ms/step - loss: 1.4332 - accuracy: 0.4954 - val_loss: 1.6235 - val_accuracy: 0.4317\n",
            "Epoch 27/50\n",
            "524/524 [==============================] - 8s 15ms/step - loss: 1.4329 - accuracy: 0.4959 - val_loss: 1.6227 - val_accuracy: 0.4316\n",
            "Epoch 28/50\n",
            "524/524 [==============================] - 8s 15ms/step - loss: 1.4330 - accuracy: 0.4961 - val_loss: 1.6231 - val_accuracy: 0.4319\n",
            "Epoch 29/50\n",
            "524/524 [==============================] - 8s 14ms/step - loss: 1.4330 - accuracy: 0.4958 - val_loss: 1.6235 - val_accuracy: 0.4310\n",
            "Epoch 30/50\n",
            "524/524 [==============================] - 7s 14ms/step - loss: 1.4331 - accuracy: 0.4953 - val_loss: 1.6235 - val_accuracy: 0.4310\n",
            "Epoch 31/50\n",
            "524/524 [==============================] - 8s 15ms/step - loss: 1.4331 - accuracy: 0.4953 - val_loss: 1.6236 - val_accuracy: 0.4311\n",
            "Epoch 32/50\n",
            "524/524 [==============================] - 8s 15ms/step - loss: 1.4331 - accuracy: 0.4953 - val_loss: 1.6236 - val_accuracy: 0.4311\n",
            "Epoch 33/50\n",
            "524/524 [==============================] - 8s 15ms/step - loss: 1.4331 - accuracy: 0.4953 - val_loss: 1.6235 - val_accuracy: 0.4312\n",
            "Epoch 34/50\n",
            "524/524 [==============================] - 8s 15ms/step - loss: 1.4331 - accuracy: 0.4953 - val_loss: 1.6235 - val_accuracy: 0.4312\n",
            "Epoch 35/50\n",
            "524/524 [==============================] - 8s 15ms/step - loss: 1.4331 - accuracy: 0.4953 - val_loss: 1.6235 - val_accuracy: 0.4312\n",
            "Epoch 36/50\n",
            "524/524 [==============================] - 8s 15ms/step - loss: 1.4331 - accuracy: 0.4953 - val_loss: 1.6235 - val_accuracy: 0.4312\n",
            "Epoch 37/50\n",
            "524/524 [==============================] - 8s 14ms/step - loss: 1.4331 - accuracy: 0.4953 - val_loss: 1.6235 - val_accuracy: 0.4312\n",
            "Epoch 38/50\n",
            "524/524 [==============================] - 8s 15ms/step - loss: 1.4331 - accuracy: 0.4953 - val_loss: 1.6235 - val_accuracy: 0.4312\n",
            "Epoch 39/50\n",
            "524/524 [==============================] - 8s 15ms/step - loss: 1.4331 - accuracy: 0.4953 - val_loss: 1.6235 - val_accuracy: 0.4312\n",
            "Epoch 40/50\n",
            "524/524 [==============================] - 8s 14ms/step - loss: 1.4331 - accuracy: 0.4953 - val_loss: 1.6235 - val_accuracy: 0.4312\n",
            "Epoch 41/50\n",
            "524/524 [==============================] - 7s 14ms/step - loss: 1.4331 - accuracy: 0.4953 - val_loss: 1.6235 - val_accuracy: 0.4312\n",
            "Epoch 42/50\n",
            "524/524 [==============================] - 8s 14ms/step - loss: 1.4331 - accuracy: 0.4953 - val_loss: 1.6235 - val_accuracy: 0.4312\n",
            "Epoch 43/50\n",
            "524/524 [==============================] - 8s 15ms/step - loss: 1.4331 - accuracy: 0.4953 - val_loss: 1.6235 - val_accuracy: 0.4312\n",
            "Epoch 44/50\n",
            "524/524 [==============================] - 8s 14ms/step - loss: 1.4331 - accuracy: 0.4953 - val_loss: 1.6235 - val_accuracy: 0.4312\n",
            "Epoch 45/50\n",
            "524/524 [==============================] - 7s 14ms/step - loss: 1.4331 - accuracy: 0.4953 - val_loss: 1.6235 - val_accuracy: 0.4312\n",
            "Epoch 46/50\n",
            "524/524 [==============================] - 8s 15ms/step - loss: 1.4331 - accuracy: 0.4953 - val_loss: 1.6235 - val_accuracy: 0.4312\n",
            "Epoch 47/50\n",
            "524/524 [==============================] - 8s 14ms/step - loss: 1.4331 - accuracy: 0.4953 - val_loss: 1.6235 - val_accuracy: 0.4312\n",
            "Epoch 48/50\n",
            "524/524 [==============================] - 8s 15ms/step - loss: 1.4331 - accuracy: 0.4953 - val_loss: 1.6235 - val_accuracy: 0.4312\n",
            "Epoch 49/50\n",
            "524/524 [==============================] - 8s 14ms/step - loss: 1.4331 - accuracy: 0.4953 - val_loss: 1.6235 - val_accuracy: 0.4312\n",
            "Epoch 50/50\n",
            "524/524 [==============================] - 8s 15ms/step - loss: 1.4331 - accuracy: 0.4953 - val_loss: 1.6235 - val_accuracy: 0.4312\n"
          ]
        }
      ]
    },
    {
      "cell_type": "code",
      "metadata": {
        "id": "bLj---H5pIz3"
      },
      "source": [
        "# evalutaing model\n",
        "model.evaluate(\n",
        "    testX, testY, batch_size=64, verbose=1, sample_weight=None, steps=None,\n",
        "    callbacks=None, max_queue_size=10, workers=1, use_multiprocessing=False,\n",
        "    return_dict=False\n",
        ")"
      ],
      "execution_count": null,
      "outputs": []
    },
    {
      "cell_type": "code",
      "metadata": {
        "id": "xvjxXFW_nlL1"
      },
      "source": [
        "# F1 score\n",
        "from sklearn.metrics import f1_score\n",
        "pred_Y = model.predict(testX).argmax(axis=1)\n",
        "f1_score(testY, pred_Y, average='micro')"
      ],
      "execution_count": null,
      "outputs": []
    },
    {
      "cell_type": "code",
      "metadata": {
        "id": "L-M20QbWwmM-"
      },
      "source": [
        "# plotting the model's training and validation accuracy and loss \n",
        "%matplotlib inline\n",
        "import matplotlib.pyplot as plt\n",
        "acc = history_3.history['accuracy']\n",
        "val_acc = history_3.history['val_accuracy']\n",
        "loss = history_3.history['loss']\n",
        "val_loss = history_3.history['val_loss']\n",
        "\n",
        "epochs = range(len(acc))\n",
        "\n",
        "plt.plot(epochs, acc, 'r', label='Training accuracy')\n",
        "plt.plot(epochs, val_acc, 'b', label='Validation accuracy')\n",
        "plt.title('Training and validation accuracy')\n",
        "plt.legend()\n",
        "plt.figure()\n",
        "\n",
        "plt.plot(epochs, loss, 'r', label='Training Loss')\n",
        "plt.plot(epochs, val_loss, 'b', label='Validation Loss')\n",
        "plt.title('Training and validation loss')\n",
        "plt.legend()\n",
        "\n",
        "plt.show()"
      ],
      "execution_count": null,
      "outputs": []
    },
    {
      "cell_type": "markdown",
      "metadata": {
        "id": "e0PpvhYUkhzM"
      },
      "source": [
        "# Q.3 Ablation study"
      ]
    },
    {
      "cell_type": "markdown",
      "metadata": {
        "id": "xP-Heyhqs-LF"
      },
      "source": [
        "|  Dataset \t| Simple skip connection  \t|  Reduced skip layers \t|  Changed Activation\t|   \t|   \t|   \t|\n",
        "|:-:\t|:-:\t|:-:\t|:-:\t|---\t|---\t|---\t|\n",
        "| CIFAR  \t|  49.17% \t| 47.95%  \t| 46.88%  \t|   \t|   \t|   \t|"
      ]
    },
    {
      "cell_type": "markdown",
      "metadata": {
        "id": "xOYicdAOnn-i"
      },
      "source": [
        "Here we perform 2 ablation study.\n",
        "\n",
        "\n",
        "1.   Reduce the number of layers skipped, this would help a little but not that much, so we can expect an accuracy in between the full, skip connections and this experiment.\n",
        "2.   We change the skip connection activation layers from ReLU to y=x, <br>\n",
        "this makes the gradients, which were intially non-negative, now a chance to be negative, thus hampering the vanishing gradient problem, results here might not be as good as the simple skip connections.\n",
        "\n"
      ]
    },
    {
      "cell_type": "markdown",
      "metadata": {
        "id": "ISrOt6LokoTc"
      },
      "source": [
        "Number of layers skipped"
      ]
    },
    {
      "cell_type": "code",
      "metadata": {
        "id": "lXfWiV4ASMf_",
        "colab": {
          "base_uri": "https://localhost:8080/"
        },
        "outputId": "253ceb8b-816d-4ca2-b86c-6e02414c135b"
      },
      "source": [
        "#creating model\n",
        "def create_model():\n",
        "    inputs = Input(shape=(32,32,3))\n",
        "    input = tf.keras.layers.Flatten(input_shape=(32,32,3))(inputs)\n",
        "    x = tf.keras.layers.Dense(512, activation=tf.nn.relu)(input)\n",
        "\n",
        "    w = tf.keras.layers.Dense(256, activation=tf.nn.relu)(x)\n",
        "    z = tf.keras.layers.Dense(256, activation=tf.nn.relu)(w)\n",
        "    z = Add()([z,w])\n",
        "    x = tf.keras.layers.Dense(256, activation=tf.nn.relu)(z)\n",
        "    z = tf.keras.layers.Dense(256, activation=tf.nn.relu)(x)\n",
        "    z = Add()([z,x])\n",
        "    z = tf.keras.layers.Dropout(0.3)(z)\n",
        "\n",
        "    w = tf.keras.layers.Dense(128, activation=tf.nn.relu)(z)\n",
        "    z = tf.keras.layers.Dense(128, activation=tf.nn.relu)(w)\n",
        "    x = tf.keras.layers.Dense(128, activation=tf.nn.relu)(z)\n",
        "    z = tf.keras.layers.Dense(128, activation=tf.nn.relu)(x)\n",
        "    z = tf.keras.layers.Dropout(0.3)(z)\n",
        "\n",
        "    w = tf.keras.layers.Dense(64, activation=tf.nn.relu)(z)\n",
        "    z = tf.keras.layers.Dense(64, activation=tf.nn.relu)(w)\n",
        "    x = tf.keras.layers.Dense(64, activation=tf.nn.relu)(z)\n",
        "    z = tf.keras.layers.Dense(64, activation=tf.nn.relu)(x)\n",
        "    z = tf.keras.layers.Dropout(0.3)(z)\n",
        "\n",
        "    w = tf.keras.layers.Dense(32, activation=tf.nn.relu)(z)\n",
        "    z = tf.keras.layers.Dense(32, activation=tf.nn.relu)(w)\n",
        "    x = tf.keras.layers.Dense(32, activation=tf.nn.relu)(z)\n",
        "    z = tf.keras.layers.Dense(32, activation=tf.nn.relu)(x)\n",
        "\n",
        "    z = tf.keras.layers.Dense(10, activation=tf.nn.softmax)(z)\n",
        "    model = Model(inputs, z)\n",
        "    model.compile(optimizer=tf.keras.optimizers.Adam(0.0001),loss='sparse_categorical_crossentropy', metrics=['accuracy'])\n",
        "    return model\n",
        "\n",
        "# to run model on tpu\n",
        "with tpu_strategy.scope():\n",
        "    model = create_model()\n",
        "\n",
        "# loading cifar10 dataset\n",
        "(trainX, trainY),(testX, testY) = cifar10.load_data()\n",
        "\n",
        "# splitting the training data in training and validation data\n",
        "trainX, valX, trainY, valY = train_test_split(trainX, trainY, test_size=0.33, random_state=42)\n",
        "\n",
        "# normalizing the image\n",
        "trainX,valX, testX = normalize_image(trainX,valX, testX)\n",
        "  \n",
        "# fit model\n",
        "history_4 = model.fit(trainX, trainY, validation_data=(valX,valY),epochs=50, batch_size=64, verbose=1,callbacks=[callback])"
      ],
      "execution_count": null,
      "outputs": [
        {
          "output_type": "stream",
          "name": "stdout",
          "text": [
            "Epoch 1/50\n",
            "524/524 [==============================] - 27s 31ms/step - loss: 2.2268 - accuracy: 0.1379 - val_loss: 2.1348 - val_accuracy: 0.1677\n",
            "Epoch 2/50\n",
            "524/524 [==============================] - 8s 16ms/step - loss: 2.0681 - accuracy: 0.1772 - val_loss: 2.0197 - val_accuracy: 0.1859\n",
            "Epoch 3/50\n",
            "524/524 [==============================] - 8s 16ms/step - loss: 2.0133 - accuracy: 0.1960 - val_loss: 1.9715 - val_accuracy: 0.2101\n",
            "Epoch 4/50\n",
            "524/524 [==============================] - 8s 16ms/step - loss: 1.9537 - accuracy: 0.2290 - val_loss: 1.9033 - val_accuracy: 0.2499\n",
            "Epoch 5/50\n",
            "524/524 [==============================] - 8s 16ms/step - loss: 1.9027 - accuracy: 0.2501 - val_loss: 1.8905 - val_accuracy: 0.2585\n",
            "Epoch 6/50\n",
            "524/524 [==============================] - 9s 17ms/step - loss: 1.8627 - accuracy: 0.2748 - val_loss: 1.8387 - val_accuracy: 0.2830\n",
            "Epoch 7/50\n",
            "524/524 [==============================] - 8s 16ms/step - loss: 1.8284 - accuracy: 0.2879 - val_loss: 1.8187 - val_accuracy: 0.2902\n",
            "Epoch 8/50\n",
            "524/524 [==============================] - 8s 16ms/step - loss: 1.7986 - accuracy: 0.3005 - val_loss: 1.7891 - val_accuracy: 0.3259\n",
            "Epoch 9/50\n",
            "524/524 [==============================] - 8s 16ms/step - loss: 1.7681 - accuracy: 0.3227 - val_loss: 1.7526 - val_accuracy: 0.3296\n",
            "Epoch 10/50\n",
            "524/524 [==============================] - 8s 16ms/step - loss: 1.7330 - accuracy: 0.3385 - val_loss: 1.7188 - val_accuracy: 0.3571\n",
            "Epoch 11/50\n",
            "524/524 [==============================] - 9s 16ms/step - loss: 1.7074 - accuracy: 0.3528 - val_loss: 1.7121 - val_accuracy: 0.3638\n",
            "Epoch 12/50\n",
            "524/524 [==============================] - 9s 16ms/step - loss: 1.6750 - accuracy: 0.3676 - val_loss: 1.6804 - val_accuracy: 0.3785\n",
            "Epoch 13/50\n",
            "524/524 [==============================] - 9s 16ms/step - loss: 1.6482 - accuracy: 0.3864 - val_loss: 1.6857 - val_accuracy: 0.3818\n",
            "Epoch 14/50\n",
            "524/524 [==============================] - 8s 16ms/step - loss: 1.6231 - accuracy: 0.4001 - val_loss: 1.6579 - val_accuracy: 0.3945\n",
            "Epoch 15/50\n",
            "524/524 [==============================] - 8s 16ms/step - loss: 1.6004 - accuracy: 0.4101 - val_loss: 1.6715 - val_accuracy: 0.4010\n",
            "Epoch 16/50\n",
            "524/524 [==============================] - 9s 16ms/step - loss: 1.5776 - accuracy: 0.4243 - val_loss: 1.6304 - val_accuracy: 0.4121\n",
            "Epoch 17/50\n",
            "524/524 [==============================] - 8s 16ms/step - loss: 1.5496 - accuracy: 0.4359 - val_loss: 1.6311 - val_accuracy: 0.4167\n",
            "Epoch 18/50\n",
            "524/524 [==============================] - 8s 16ms/step - loss: 1.5318 - accuracy: 0.4425 - val_loss: 1.6190 - val_accuracy: 0.4255\n",
            "Epoch 19/50\n",
            "524/524 [==============================] - 9s 16ms/step - loss: 1.5097 - accuracy: 0.4531 - val_loss: 1.6100 - val_accuracy: 0.4301\n",
            "Epoch 20/50\n",
            "524/524 [==============================] - 8s 16ms/step - loss: 1.4835 - accuracy: 0.4624 - val_loss: 1.6145 - val_accuracy: 0.4359\n",
            "Epoch 21/50\n",
            "524/524 [==============================] - 8s 16ms/step - loss: 1.4657 - accuracy: 0.4702 - val_loss: 1.5957 - val_accuracy: 0.4403\n",
            "Epoch 22/50\n",
            "524/524 [==============================] - 8s 16ms/step - loss: 1.4387 - accuracy: 0.4831 - val_loss: 1.6043 - val_accuracy: 0.4413\n",
            "Epoch 23/50\n",
            "524/524 [==============================] - 8s 16ms/step - loss: 1.4255 - accuracy: 0.4877 - val_loss: 1.5516 - val_accuracy: 0.4558\n",
            "Epoch 24/50\n",
            "524/524 [==============================] - 8s 16ms/step - loss: 1.4027 - accuracy: 0.4959 - val_loss: 1.5769 - val_accuracy: 0.4537\n",
            "Epoch 25/50\n",
            "524/524 [==============================] - 8s 16ms/step - loss: 1.3848 - accuracy: 0.5036 - val_loss: 1.5847 - val_accuracy: 0.4606\n",
            "Epoch 26/50\n",
            "524/524 [==============================] - 8s 16ms/step - loss: 1.3645 - accuracy: 0.5084 - val_loss: 1.5579 - val_accuracy: 0.4668\n",
            "Epoch 27/50\n",
            "524/524 [==============================] - 8s 16ms/step - loss: 1.2651 - accuracy: 0.5434 - val_loss: 1.5378 - val_accuracy: 0.4727\n",
            "Epoch 28/50\n",
            "524/524 [==============================] - 8s 16ms/step - loss: 1.2438 - accuracy: 0.5516 - val_loss: 1.5443 - val_accuracy: 0.4766\n",
            "Epoch 29/50\n",
            "524/524 [==============================] - 9s 17ms/step - loss: 1.2323 - accuracy: 0.5571 - val_loss: 1.5436 - val_accuracy: 0.4776\n",
            "Epoch 30/50\n",
            "524/524 [==============================] - 8s 16ms/step - loss: 1.2263 - accuracy: 0.5566 - val_loss: 1.5502 - val_accuracy: 0.4783\n",
            "Epoch 31/50\n",
            "524/524 [==============================] - 8s 16ms/step - loss: 1.2092 - accuracy: 0.5647 - val_loss: 1.5510 - val_accuracy: 0.4785\n",
            "Epoch 32/50\n",
            "524/524 [==============================] - 8s 16ms/step - loss: 1.2071 - accuracy: 0.5637 - val_loss: 1.5512 - val_accuracy: 0.4795\n",
            "Epoch 33/50\n",
            "524/524 [==============================] - 8s 16ms/step - loss: 1.2085 - accuracy: 0.5633 - val_loss: 1.5516 - val_accuracy: 0.4798\n",
            "Epoch 34/50\n",
            "524/524 [==============================] - 8s 16ms/step - loss: 1.2055 - accuracy: 0.5649 - val_loss: 1.5512 - val_accuracy: 0.4798\n",
            "Epoch 35/50\n",
            "524/524 [==============================] - 8s 16ms/step - loss: 1.2031 - accuracy: 0.5643 - val_loss: 1.5511 - val_accuracy: 0.4795\n",
            "Epoch 36/50\n",
            "524/524 [==============================] - 8s 16ms/step - loss: 1.2026 - accuracy: 0.5652 - val_loss: 1.5510 - val_accuracy: 0.4793\n",
            "Epoch 37/50\n",
            "524/524 [==============================] - 8s 16ms/step - loss: 1.2055 - accuracy: 0.5638 - val_loss: 1.5510 - val_accuracy: 0.4793\n",
            "Epoch 38/50\n",
            "524/524 [==============================] - 8s 16ms/step - loss: 1.2041 - accuracy: 0.5616 - val_loss: 1.5510 - val_accuracy: 0.4795\n",
            "Epoch 39/50\n",
            "524/524 [==============================] - 8s 16ms/step - loss: 1.2013 - accuracy: 0.5698 - val_loss: 1.5510 - val_accuracy: 0.4793\n",
            "Epoch 40/50\n",
            "524/524 [==============================] - 8s 16ms/step - loss: 1.2034 - accuracy: 0.5651 - val_loss: 1.5510 - val_accuracy: 0.4793\n",
            "Epoch 41/50\n",
            "524/524 [==============================] - 8s 16ms/step - loss: 1.2029 - accuracy: 0.5661 - val_loss: 1.5510 - val_accuracy: 0.4794\n",
            "Epoch 42/50\n",
            "524/524 [==============================] - 8s 16ms/step - loss: 1.2052 - accuracy: 0.5671 - val_loss: 1.5510 - val_accuracy: 0.4795\n",
            "Epoch 43/50\n",
            "524/524 [==============================] - 8s 16ms/step - loss: 1.2066 - accuracy: 0.5631 - val_loss: 1.5510 - val_accuracy: 0.4795\n",
            "Epoch 44/50\n",
            "524/524 [==============================] - 8s 16ms/step - loss: 1.2028 - accuracy: 0.5668 - val_loss: 1.5510 - val_accuracy: 0.4795\n",
            "Epoch 45/50\n",
            "524/524 [==============================] - 8s 16ms/step - loss: 1.2032 - accuracy: 0.5646 - val_loss: 1.5510 - val_accuracy: 0.4795\n",
            "Epoch 46/50\n",
            "524/524 [==============================] - 8s 16ms/step - loss: 1.2074 - accuracy: 0.5647 - val_loss: 1.5510 - val_accuracy: 0.4795\n",
            "Epoch 47/50\n",
            "524/524 [==============================] - 9s 16ms/step - loss: 1.2034 - accuracy: 0.5674 - val_loss: 1.5510 - val_accuracy: 0.4795\n",
            "Epoch 48/50\n",
            "524/524 [==============================] - 9s 17ms/step - loss: 1.2039 - accuracy: 0.5654 - val_loss: 1.5510 - val_accuracy: 0.4795\n",
            "Epoch 49/50\n",
            "524/524 [==============================] - 9s 16ms/step - loss: 1.2006 - accuracy: 0.5674 - val_loss: 1.5510 - val_accuracy: 0.4795\n",
            "Epoch 50/50\n",
            "524/524 [==============================] - 9s 16ms/step - loss: 1.2042 - accuracy: 0.5670 - val_loss: 1.5510 - val_accuracy: 0.4795\n"
          ]
        },
        {
          "output_type": "stream",
          "name": "stderr",
          "text": [
            "/usr/local/lib/python3.7/dist-packages/keras/utils/generic_utils.py:497: CustomMaskWarning: Custom mask layers require a config and must override get_config. When loading, the custom mask layer must be passed to the custom_objects argument.\n",
            "  category=CustomMaskWarning)\n"
          ]
        }
      ]
    },
    {
      "cell_type": "code",
      "metadata": {
        "id": "0tnfLO7tzjvq"
      },
      "source": [
        "# evaluating model\n",
        "model.evaluate(\n",
        "    testX, testY, batch_size=64, verbose=1, sample_weight=None, steps=None,\n",
        "    callbacks=None, max_queue_size=10, workers=1, use_multiprocessing=False,\n",
        "    return_dict=False\n",
        ")"
      ],
      "execution_count": null,
      "outputs": []
    },
    {
      "cell_type": "code",
      "metadata": {
        "id": "L9jX2o8lzkSX"
      },
      "source": [
        "# plotting the model's training and validation accuracy and loss \n",
        "%matplotlib inline\n",
        "import matplotlib.pyplot as plt\n",
        "acc = history_4.history['accuracy']\n",
        "val_acc = history_4.history['val_accuracy']\n",
        "loss = history_4.history['loss']\n",
        "val_loss = history_4.history['val_loss']\n",
        "\n",
        "epochs = range(len(acc))\n",
        "\n",
        "plt.plot(epochs, acc, 'r', label='Training accuracy')\n",
        "plt.plot(epochs, val_acc, 'b', label='Validation accuracy')\n",
        "plt.title('Training and validation accuracy')\n",
        "plt.legend()\n",
        "plt.figure()\n",
        "\n",
        "plt.plot(epochs, loss, 'r', label='Training Loss')\n",
        "plt.plot(epochs, val_loss, 'b', label='Validation Loss')\n",
        "plt.title('Training and validation loss')\n",
        "plt.legend()\n",
        "\n",
        "plt.show()"
      ],
      "execution_count": null,
      "outputs": []
    },
    {
      "cell_type": "code",
      "metadata": {
        "id": "9PxY3gw9oDYt"
      },
      "source": [
        "# This shows number of skip connection, also matters and just keeping 1/3 skip connections reduces the performance by 3-4%"
      ],
      "execution_count": null,
      "outputs": []
    },
    {
      "cell_type": "markdown",
      "metadata": {
        "id": "jB7NhrNHkqYN"
      },
      "source": [
        "Activation of each skipped layer"
      ]
    },
    {
      "cell_type": "code",
      "metadata": {
        "colab": {
          "base_uri": "https://localhost:8080/"
        },
        "id": "P_YuNDEAksRr",
        "outputId": "1b06a262-1d42-4f14-cabf-9e76ddae4237"
      },
      "source": [
        "#creating model\n",
        "def create_model():\n",
        "    inputs = Input(shape=(32,32,3))\n",
        "    input = tf.keras.layers.Flatten(input_shape=(32,32,3))(inputs)\n",
        "    x = tf.keras.layers.Dense(512)(input)\n",
        "\n",
        "    w = tf.keras.layers.Dense(256)(x)\n",
        "    z = tf.keras.layers.Dense(256)(w)\n",
        "    z = Add()([z,w])\n",
        "    x = tf.keras.layers.Dense(256)(z)\n",
        "    z = tf.keras.layers.Dense(256)(x)\n",
        "    z = Add()([z,x])\n",
        "    z = tf.keras.layers.Dropout(0.3)(z)\n",
        "\n",
        "    w = tf.keras.layers.Dense(128)(z)\n",
        "    z = tf.keras.layers.Dense(128)(w)\n",
        "    z = Add()([z,w])\n",
        "    x = tf.keras.layers.Dense(128)(z)\n",
        "    z = tf.keras.layers.Dense(128)(x)\n",
        "    z = Add()([z,x])\n",
        "    z = tf.keras.layers.Dropout(0.3)(z)\n",
        "\n",
        "    w = tf.keras.layers.Dense(64)(z)\n",
        "    z = tf.keras.layers.Dense(64)(w)\n",
        "    z = Add()([z,w])\n",
        "    x = tf.keras.layers.Dense(64)(z)\n",
        "    z = tf.keras.layers.Dense(64)(x)\n",
        "    z = Add()([z,x])\n",
        "    z = tf.keras.layers.Dropout(0.3)(z)\n",
        "\n",
        "    w = tf.keras.layers.Dense(32)(z)\n",
        "    z = tf.keras.layers.Dense(32)(w)\n",
        "    z = Add()([z,w])\n",
        "    x = tf.keras.layers.Dense(32)(z)\n",
        "    z = tf.keras.layers.Dense(32)(x)\n",
        "    z = Add()([z,x])\n",
        "\n",
        "    z = tf.keras.layers.Dense(10, activation=tf.nn.softmax)(z)\n",
        "    model = Model(inputs, z)\n",
        "    model.compile(optimizer=tf.keras.optimizers.Adam(0.0001),loss='sparse_categorical_crossentropy', metrics=['accuracy'])\n",
        "    return model\n",
        "\n",
        "# to run model on tpu\n",
        "with tpu_strategy.scope():\n",
        "    model = create_model()\n",
        "\n",
        "# loading cifar10 dataset\n",
        "(trainX, trainY),(testX, testY) = cifar10.load_data()\n",
        "\n",
        "# splitting the training data in training and validation data\n",
        "trainX, valX, trainY, valY = train_test_split(trainX, trainY, test_size=0.33, random_state=42)\n",
        "\n",
        "# normalizing the image\n",
        "trainX,valX, testX = normalize_image(trainX,valX, testX)\n",
        "  \n",
        "# fit model\n",
        "history_5 = model.fit(trainX, trainY, validation_data=(valX,valY),epochs=50, batch_size=64, verbose=1,callbacks=[callback])"
      ],
      "execution_count": null,
      "outputs": [
        {
          "output_type": "stream",
          "name": "stdout",
          "text": [
            "Epoch 1/50\n",
            "524/524 [==============================] - 23s 29ms/step - loss: 4.3925 - accuracy: 0.1474 - val_loss: 2.1588 - val_accuracy: 0.1963\n",
            "Epoch 2/50\n",
            "524/524 [==============================] - 8s 16ms/step - loss: 2.1853 - accuracy: 0.1853 - val_loss: 2.0265 - val_accuracy: 0.2541\n",
            "Epoch 3/50\n",
            "524/524 [==============================] - 8s 16ms/step - loss: 2.0718 - accuracy: 0.2244 - val_loss: 1.9639 - val_accuracy: 0.2593\n",
            "Epoch 4/50\n",
            "524/524 [==============================] - 8s 16ms/step - loss: 2.0048 - accuracy: 0.2433 - val_loss: 1.9137 - val_accuracy: 0.2789\n",
            "Epoch 5/50\n",
            "524/524 [==============================] - 9s 16ms/step - loss: 1.9441 - accuracy: 0.2782 - val_loss: 1.8556 - val_accuracy: 0.3230\n",
            "Epoch 6/50\n",
            "524/524 [==============================] - 9s 16ms/step - loss: 1.8890 - accuracy: 0.2996 - val_loss: 1.8078 - val_accuracy: 0.3351\n",
            "Epoch 7/50\n",
            "524/524 [==============================] - 9s 18ms/step - loss: 1.8422 - accuracy: 0.3210 - val_loss: 1.7773 - val_accuracy: 0.3493\n",
            "Epoch 8/50\n",
            "524/524 [==============================] - 9s 16ms/step - loss: 1.8127 - accuracy: 0.3347 - val_loss: 1.7490 - val_accuracy: 0.3624\n",
            "Epoch 9/50\n",
            "524/524 [==============================] - 8s 16ms/step - loss: 1.7712 - accuracy: 0.3514 - val_loss: 1.7620 - val_accuracy: 0.3575\n",
            "Epoch 10/50\n",
            "524/524 [==============================] - 9s 16ms/step - loss: 1.7475 - accuracy: 0.3628 - val_loss: 1.7124 - val_accuracy: 0.3742\n",
            "Epoch 11/50\n",
            "524/524 [==============================] - 9s 16ms/step - loss: 1.7182 - accuracy: 0.3693 - val_loss: 1.6928 - val_accuracy: 0.3844\n",
            "Epoch 12/50\n",
            "524/524 [==============================] - 9s 16ms/step - loss: 1.6965 - accuracy: 0.3819 - val_loss: 1.6741 - val_accuracy: 0.3979\n",
            "Epoch 13/50\n",
            "524/524 [==============================] - 8s 16ms/step - loss: 1.6770 - accuracy: 0.3909 - val_loss: 1.6633 - val_accuracy: 0.3984\n",
            "Epoch 14/50\n",
            "524/524 [==============================] - 9s 16ms/step - loss: 1.6520 - accuracy: 0.3999 - val_loss: 1.6727 - val_accuracy: 0.3963\n",
            "Epoch 15/50\n",
            "524/524 [==============================] - 9s 16ms/step - loss: 1.6400 - accuracy: 0.4040 - val_loss: 1.6454 - val_accuracy: 0.4074\n",
            "Epoch 16/50\n",
            "524/524 [==============================] - 8s 16ms/step - loss: 1.6266 - accuracy: 0.4119 - val_loss: 1.6242 - val_accuracy: 0.4144\n",
            "Epoch 17/50\n",
            "524/524 [==============================] - 9s 16ms/step - loss: 1.6128 - accuracy: 0.4154 - val_loss: 1.6271 - val_accuracy: 0.4201\n",
            "Epoch 18/50\n",
            "524/524 [==============================] - 9s 16ms/step - loss: 1.5978 - accuracy: 0.4237 - val_loss: 1.6462 - val_accuracy: 0.4085\n",
            "Epoch 19/50\n",
            "524/524 [==============================] - 8s 16ms/step - loss: 1.5865 - accuracy: 0.4240 - val_loss: 1.6005 - val_accuracy: 0.4273\n",
            "Epoch 20/50\n",
            "524/524 [==============================] - 9s 16ms/step - loss: 1.5727 - accuracy: 0.4328 - val_loss: 1.5950 - val_accuracy: 0.4285\n",
            "Epoch 21/50\n",
            "524/524 [==============================] - 9s 16ms/step - loss: 1.5673 - accuracy: 0.4328 - val_loss: 1.5949 - val_accuracy: 0.4247\n",
            "Epoch 22/50\n",
            "524/524 [==============================] - 9s 16ms/step - loss: 1.5476 - accuracy: 0.4412 - val_loss: 1.5935 - val_accuracy: 0.4348\n",
            "Epoch 23/50\n",
            "524/524 [==============================] - 9s 16ms/step - loss: 1.5381 - accuracy: 0.4445 - val_loss: 1.5994 - val_accuracy: 0.4341\n",
            "Epoch 24/50\n",
            "524/524 [==============================] - 9s 16ms/step - loss: 1.5279 - accuracy: 0.4476 - val_loss: 1.5746 - val_accuracy: 0.4404\n",
            "Epoch 25/50\n",
            "524/524 [==============================] - 9s 16ms/step - loss: 1.5161 - accuracy: 0.4526 - val_loss: 1.5595 - val_accuracy: 0.4449\n",
            "Epoch 26/50\n",
            "524/524 [==============================] - 9s 16ms/step - loss: 1.5053 - accuracy: 0.4581 - val_loss: 1.5692 - val_accuracy: 0.4532\n",
            "Epoch 27/50\n",
            "524/524 [==============================] - 9s 16ms/step - loss: 1.4992 - accuracy: 0.4575 - val_loss: 1.5567 - val_accuracy: 0.4525\n",
            "Epoch 28/50\n",
            "524/524 [==============================] - 8s 16ms/step - loss: 1.4902 - accuracy: 0.4634 - val_loss: 1.5829 - val_accuracy: 0.4485\n",
            "Epoch 29/50\n",
            "524/524 [==============================] - 9s 16ms/step - loss: 1.4734 - accuracy: 0.4704 - val_loss: 1.6054 - val_accuracy: 0.4236\n",
            "Epoch 30/50\n",
            "524/524 [==============================] - 9s 17ms/step - loss: 1.4740 - accuracy: 0.4678 - val_loss: 1.5583 - val_accuracy: 0.4470\n",
            "Epoch 31/50\n",
            "524/524 [==============================] - 9s 16ms/step - loss: 1.3920 - accuracy: 0.4977 - val_loss: 1.5289 - val_accuracy: 0.4652\n",
            "Epoch 32/50\n",
            "524/524 [==============================] - 9s 16ms/step - loss: 1.3719 - accuracy: 0.5064 - val_loss: 1.5261 - val_accuracy: 0.4668\n",
            "Epoch 33/50\n",
            "524/524 [==============================] - 9s 16ms/step - loss: 1.3674 - accuracy: 0.5090 - val_loss: 1.5297 - val_accuracy: 0.4681\n",
            "Epoch 34/50\n",
            "524/524 [==============================] - 9s 17ms/step - loss: 1.3654 - accuracy: 0.5114 - val_loss: 1.5325 - val_accuracy: 0.4655\n",
            "Epoch 35/50\n",
            "524/524 [==============================] - 9s 17ms/step - loss: 1.3599 - accuracy: 0.5083 - val_loss: 1.5287 - val_accuracy: 0.4705\n",
            "Epoch 36/50\n",
            "524/524 [==============================] - 9s 17ms/step - loss: 1.3472 - accuracy: 0.5146 - val_loss: 1.5244 - val_accuracy: 0.4690\n",
            "Epoch 37/50\n",
            "524/524 [==============================] - 9s 17ms/step - loss: 1.3456 - accuracy: 0.5154 - val_loss: 1.5240 - val_accuracy: 0.4686\n",
            "Epoch 38/50\n",
            "524/524 [==============================] - 8s 16ms/step - loss: 1.3469 - accuracy: 0.5153 - val_loss: 1.5242 - val_accuracy: 0.4684\n",
            "Epoch 39/50\n",
            "524/524 [==============================] - 9s 16ms/step - loss: 1.3429 - accuracy: 0.5130 - val_loss: 1.5249 - val_accuracy: 0.4677\n",
            "Epoch 40/50\n",
            "524/524 [==============================] - 8s 16ms/step - loss: 1.3422 - accuracy: 0.5159 - val_loss: 1.5250 - val_accuracy: 0.4699\n",
            "Epoch 41/50\n",
            "524/524 [==============================] - 8s 16ms/step - loss: 1.3399 - accuracy: 0.5171 - val_loss: 1.5249 - val_accuracy: 0.4699\n",
            "Epoch 42/50\n",
            "524/524 [==============================] - 8s 16ms/step - loss: 1.3412 - accuracy: 0.5172 - val_loss: 1.5249 - val_accuracy: 0.4693\n",
            "Epoch 43/50\n",
            "524/524 [==============================] - 9s 16ms/step - loss: 1.3439 - accuracy: 0.5202 - val_loss: 1.5249 - val_accuracy: 0.4689\n",
            "Epoch 44/50\n",
            "524/524 [==============================] - 8s 16ms/step - loss: 1.3401 - accuracy: 0.5160 - val_loss: 1.5250 - val_accuracy: 0.4688\n",
            "Epoch 45/50\n",
            "524/524 [==============================] - 8s 16ms/step - loss: 1.3401 - accuracy: 0.5181 - val_loss: 1.5248 - val_accuracy: 0.4694\n",
            "Epoch 46/50\n",
            "524/524 [==============================] - 9s 17ms/step - loss: 1.3413 - accuracy: 0.5171 - val_loss: 1.5248 - val_accuracy: 0.4693\n",
            "Epoch 47/50\n",
            "524/524 [==============================] - 9s 16ms/step - loss: 1.3409 - accuracy: 0.5194 - val_loss: 1.5248 - val_accuracy: 0.4695\n",
            "Epoch 48/50\n",
            "524/524 [==============================] - 9s 16ms/step - loss: 1.3403 - accuracy: 0.5180 - val_loss: 1.5248 - val_accuracy: 0.4693\n",
            "Epoch 49/50\n",
            "524/524 [==============================] - 9s 17ms/step - loss: 1.3406 - accuracy: 0.5142 - val_loss: 1.5248 - val_accuracy: 0.4688\n",
            "Epoch 50/50\n",
            "524/524 [==============================] - 9s 17ms/step - loss: 1.3400 - accuracy: 0.5186 - val_loss: 1.5248 - val_accuracy: 0.4688\n"
          ]
        },
        {
          "output_type": "stream",
          "name": "stderr",
          "text": [
            "/usr/local/lib/python3.7/dist-packages/keras/utils/generic_utils.py:497: CustomMaskWarning: Custom mask layers require a config and must override get_config. When loading, the custom mask layer must be passed to the custom_objects argument.\n",
            "  category=CustomMaskWarning)\n"
          ]
        }
      ]
    },
    {
      "cell_type": "code",
      "metadata": {
        "id": "VCiBFVvMzvvf"
      },
      "source": [
        "#evaluating model\n",
        "model.evaluate(\n",
        "    testX, testY, batch_size=64, verbose=1, sample_weight=None, steps=None,\n",
        "    callbacks=None, max_queue_size=10, workers=1, use_multiprocessing=False,\n",
        "    return_dict=False\n",
        ")"
      ],
      "execution_count": null,
      "outputs": []
    },
    {
      "cell_type": "code",
      "metadata": {
        "id": "ONIM7uq1z0Z5"
      },
      "source": [
        "# plotting the model's training and validation accuracy and loss \n",
        "%matplotlib inline\n",
        "import matplotlib.pyplot as plt\n",
        "acc = history_5.history['accuracy']\n",
        "val_acc = history_5.history['val_accuracy']\n",
        "loss = history_5.history['loss']\n",
        "val_loss = history_5.history['val_loss']\n",
        "\n",
        "epochs = range(len(acc))\n",
        "\n",
        "plt.plot(epochs, acc, 'r', label='Training accuracy')\n",
        "plt.plot(epochs, val_acc, 'b', label='Validation accuracy')\n",
        "plt.title('Training and validation accuracy')\n",
        "plt.legend()\n",
        "plt.figure()\n",
        "\n",
        "plt.plot(epochs, loss, 'r', label='Training Loss')\n",
        "plt.plot(epochs, val_loss, 'b', label='Validation Loss')\n",
        "plt.title('Training and validation loss')\n",
        "plt.legend()\n",
        "\n",
        "plt.show()"
      ],
      "execution_count": null,
      "outputs": []
    },
    {
      "cell_type": "markdown",
      "metadata": {
        "id": "ql8sw1YtktwK"
      },
      "source": [
        "# Q.4 Bonus - Why skip connection helps or hurts"
      ]
    },
    {
      "cell_type": "markdown",
      "metadata": {
        "id": "OKnk00BoyIdr"
      },
      "source": [
        "Task - To compare the number of steps needed to reach a particular threshold. This will help us compare the speed till convergence, and how using skip connection helps prevent the vanishing gradient and leads to faster convergence."
      ]
    },
    {
      "cell_type": "markdown",
      "metadata": {
        "id": "6VyC7iWT2zPJ"
      },
      "source": [
        "## Results <br>\n",
        "|  Dataset |  Number of epochs to reach 38%\n",
        "|:-:|:-:\n",
        "|  Simple Model | 5 epochs  | \n",
        "|  Skip connection | 2 epochs  |"
      ]
    },
    {
      "cell_type": "markdown",
      "metadata": {
        "id": "tKU8YbvT0pWN"
      },
      "source": [
        "### Basic model"
      ]
    },
    {
      "cell_type": "code",
      "metadata": {
        "id": "mDc7W-7zkzI1",
        "colab": {
          "base_uri": "https://localhost:8080/"
        },
        "outputId": "352c31ee-f858-4687-c2bf-6998ef8fbcb0"
      },
      "source": [
        "def create_model():\n",
        "    inputs = Input(shape=(32,32,3))\n",
        "    input = tf.keras.layers.Flatten(input_shape=(32,32,3))(inputs)\n",
        "    x = tf.keras.layers.Dense(512, activation=tf.nn.relu)(input)\n",
        "\n",
        "    w = tf.keras.layers.Dense(32, activation=tf.nn.relu)(x)\n",
        "    z = tf.keras.layers.Dense(32, activation=tf.nn.relu)(w)\n",
        "    x = tf.keras.layers.Dense(32, activation=tf.nn.relu)(z)\n",
        "    z = tf.keras.layers.Dense(32, activation=tf.nn.relu)(x)\n",
        "\n",
        "    z = tf.keras.layers.Dense(10, activation=tf.nn.softmax)(z)\n",
        "    model = Model(inputs, z)\n",
        "    return model\n",
        "\n",
        "(trainX, trainY),(testX, testY) = cifar10.load_data()\n",
        "trainX,valX, testX = normalize_image(trainX,valX, testX)\n",
        "\n",
        "scce = tf.keras.losses.SparseCategoricalCrossentropy()\n",
        "\n",
        "model = create_model()\n",
        "\n",
        "model.compile(optimizer='adam',loss='sparse_categorical_crossentropy', metrics=['accuracy'])\n",
        "history = model.fit(trainX, trainY, validation_data=(testX,testY),epochs=5, batch_size=64, verbose=1)\n",
        "\n",
        "# model.save('final_model_cifar_with_skip_type2.h5')"
      ],
      "execution_count": 60,
      "outputs": [
        {
          "output_type": "stream",
          "name": "stdout",
          "text": [
            "Epoch 1/5\n",
            "782/782 [==============================] - 8s 10ms/step - loss: 2.1092 - accuracy: 0.1870 - val_loss: 1.9542 - val_accuracy: 0.2548\n",
            "Epoch 2/5\n",
            "782/782 [==============================] - 6s 8ms/step - loss: 1.9090 - accuracy: 0.2737 - val_loss: 1.9343 - val_accuracy: 0.2958\n",
            "Epoch 3/5\n",
            "782/782 [==============================] - 6s 8ms/step - loss: 1.8030 - accuracy: 0.3354 - val_loss: 1.7605 - val_accuracy: 0.3542\n",
            "Epoch 4/5\n",
            "782/782 [==============================] - 6s 8ms/step - loss: 1.7301 - accuracy: 0.3684 - val_loss: 1.7032 - val_accuracy: 0.3775\n",
            "Epoch 5/5\n",
            "782/782 [==============================] - 6s 8ms/step - loss: 1.6627 - accuracy: 0.3949 - val_loss: 1.6750 - val_accuracy: 0.3870\n"
          ]
        }
      ]
    },
    {
      "cell_type": "markdown",
      "metadata": {
        "id": "vKLRT-t_0buX"
      },
      "source": [
        "38.7% accuracy in 5 epochs"
      ]
    },
    {
      "cell_type": "markdown",
      "metadata": {
        "id": "gGwGbPgE0jeV"
      },
      "source": [
        "### Skip connection"
      ]
    },
    {
      "cell_type": "code",
      "metadata": {
        "colab": {
          "base_uri": "https://localhost:8080/"
        },
        "id": "vb5ohjLb0sVg",
        "outputId": "4364c99d-ba19-417e-bf99-87a216bab1c4"
      },
      "source": [
        "# creating model \n",
        "def create_model():\n",
        "    inputs = Input(shape=(32,32,3))\n",
        "    input = tf.keras.layers.Flatten(input_shape=(32,32,3))(inputs)\n",
        "    x = tf.keras.layers.Dense(512, activation=tf.nn.relu)(input)\n",
        "\n",
        "    w = tf.keras.layers.Dense(256, activation=tf.nn.relu)(x)\n",
        "    z = tf.keras.layers.Dense(256, activation=tf.nn.relu)(w)\n",
        "    z = Add()([z,w])\n",
        "    x = tf.keras.layers.Dense(256, activation=tf.nn.relu)(z)\n",
        "    z = tf.keras.layers.Dense(256, activation=tf.nn.relu)(x)\n",
        "    z = Add()([z,x])\n",
        "    z = tf.keras.layers.Dropout(0.3)(z)\n",
        "\n",
        "    z = tf.keras.layers.Dense(10, activation=tf.nn.softmax)(z)\n",
        "    model = Model(inputs, z)\n",
        "    model.compile(optimizer=tf.keras.optimizers.Adam(0.0001),loss='sparse_categorical_crossentropy', metrics=['accuracy'])\n",
        "    return model\n",
        "\n",
        "# to run model on tpu\n",
        "with tpu_strategy.scope():\n",
        "    model = create_model()\n",
        "\n",
        "# loading cifar10 dataset\n",
        "(trainX, trainY),(testX, testY) = cifar10.load_data()\n",
        "\n",
        "# splitting the training data in training and validation data\n",
        "trainX, valX, trainY, valY = train_test_split(trainX, trainY, test_size=0.33, random_state=42)\n",
        "\n",
        "# normalizing the image\n",
        "trainX,valX, testX = normalize_image(trainX,valX, testX)\n",
        "  \n",
        "# fit model\n",
        "history_3 = model.fit(trainX, trainY, validation_data=(valX,valY),epochs=5, batch_size=64, verbose=1)"
      ],
      "execution_count": 61,
      "outputs": [
        {
          "output_type": "stream",
          "name": "stdout",
          "text": [
            "Epoch 1/5\n",
            "524/524 [==============================] - 18s 25ms/step - loss: 1.9590 - accuracy: 0.2873 - val_loss: 1.7619 - val_accuracy: 0.3757\n",
            "Epoch 2/5\n",
            "524/524 [==============================] - 7s 13ms/step - loss: 1.7625 - accuracy: 0.3663 - val_loss: 1.6699 - val_accuracy: 0.4082\n",
            "Epoch 3/5\n",
            "524/524 [==============================] - 7s 14ms/step - loss: 1.6693 - accuracy: 0.4070 - val_loss: 1.6152 - val_accuracy: 0.4290\n",
            "Epoch 4/5\n",
            "524/524 [==============================] - 7s 13ms/step - loss: 1.6090 - accuracy: 0.4263 - val_loss: 1.5588 - val_accuracy: 0.4421\n",
            "Epoch 5/5\n",
            "524/524 [==============================] - 7s 14ms/step - loss: 1.5572 - accuracy: 0.4443 - val_loss: 1.5171 - val_accuracy: 0.4601\n"
          ]
        }
      ]
    },
    {
      "cell_type": "markdown",
      "metadata": {
        "id": "c3-XOnDR3XZZ"
      },
      "source": [
        "# All the above tasks have been repeated for MNIST below."
      ]
    },
    {
      "cell_type": "markdown",
      "metadata": {
        "id": "3A6pGlO-FFD0"
      },
      "source": [
        "# MNIST\n"
      ]
    },
    {
      "cell_type": "markdown",
      "metadata": {
        "id": "OZjh5eU_FU8L"
      },
      "source": [
        "Vanilla model"
      ]
    },
    {
      "cell_type": "code",
      "metadata": {
        "colab": {
          "base_uri": "https://localhost:8080/"
        },
        "id": "uMsxyZKQFKrS",
        "outputId": "ffe1760f-8155-4e54-eb47-6005ecf18c99"
      },
      "source": [
        "#creating model\n",
        "def create_model():\n",
        "    inputs = Input(shape=(28,28))\n",
        "    input = tf.keras.layers.Flatten(input_shape=(28,28))(inputs)\n",
        "    x = tf.keras.layers.Dense(512, activation=tf.nn.relu)(input)\n",
        "\n",
        "    w = tf.keras.layers.Dense(256, activation=tf.nn.relu)(x)\n",
        "    z = tf.keras.layers.Dense(256, activation=tf.nn.relu)(w)\n",
        "    x = tf.keras.layers.Dense(256, activation=tf.nn.relu)(z)\n",
        "    z = tf.keras.layers.Dense(256, activation=tf.nn.relu)(x)\n",
        "\n",
        "    w = tf.keras.layers.Dense(128, activation=tf.nn.relu)(z)\n",
        "    z = tf.keras.layers.Dense(128, activation=tf.nn.relu)(w)\n",
        "    x = tf.keras.layers.Dense(128, activation=tf.nn.relu)(z)\n",
        "    z = tf.keras.layers.Dense(128, activation=tf.nn.relu)(x)\n",
        "\n",
        "    w = tf.keras.layers.Dense(64, activation=tf.nn.relu)(z)\n",
        "    z = tf.keras.layers.Dense(64, activation=tf.nn.relu)(w)\n",
        "    x = tf.keras.layers.Dense(64, activation=tf.nn.relu)(z)\n",
        "    z = tf.keras.layers.Dense(64, activation=tf.nn.relu)(x)\n",
        "\n",
        "    w = tf.keras.layers.Dense(32, activation=tf.nn.relu)(z)\n",
        "    z = tf.keras.layers.Dense(32, activation=tf.nn.relu)(w)\n",
        "    x = tf.keras.layers.Dense(32, activation=tf.nn.relu)(z)\n",
        "    z = tf.keras.layers.Dense(32, activation=tf.nn.relu)(x)\n",
        "\n",
        "    z = tf.keras.layers.Dense(10, activation=tf.nn.softmax)(z)\n",
        "    model = Model(inputs, z)\n",
        "    model.compile(optimizer='adam',loss='sparse_categorical_crossentropy', metrics=['accuracy'])\n",
        "    return model\n",
        "\n",
        "\n",
        "# to run model on tpu\n",
        "with tpu_strategy.scope():\n",
        "    model = create_model()\n",
        "\n",
        "# loading cifar10 dataset\n",
        "(trainX, trainY),(testX, testY) = mnist.load_data()\n",
        "\n",
        "# splitting the training data in training and validation data\n",
        "trainX, valX, trainY, valY = train_test_split(trainX, trainY, test_size=0.33, random_state=42)\n",
        "\n",
        "# normalizing the image\n",
        "trainX,valX, testX = normalize_image(trainX,valX, testX)\n",
        "  \n",
        "# fit model\n",
        "history = model.fit(trainX, trainY, validation_data=(valX,valY),epochs=10, batch_size=64, verbose=1)"
      ],
      "execution_count": null,
      "outputs": [
        {
          "output_type": "stream",
          "name": "stdout",
          "text": [
            "Downloading data from https://storage.googleapis.com/tensorflow/tf-keras-datasets/mnist.npz\n",
            "11493376/11490434 [==============================] - 0s 0us/step\n",
            "11501568/11490434 [==============================] - 0s 0us/step\n",
            "Epoch 1/10\n",
            "629/629 [==============================] - 22s 22ms/step - loss: 0.9849 - accuracy: 0.5947 - val_loss: 0.4562 - val_accuracy: 0.8570\n",
            "Epoch 2/10\n",
            "629/629 [==============================] - 8s 13ms/step - loss: 0.3173 - accuracy: 0.9058 - val_loss: 0.2067 - val_accuracy: 0.9478\n",
            "Epoch 3/10\n",
            "629/629 [==============================] - 9s 14ms/step - loss: 0.1774 - accuracy: 0.9564 - val_loss: 0.2040 - val_accuracy: 0.9529\n",
            "Epoch 4/10\n",
            "629/629 [==============================] - 8s 13ms/step - loss: 0.1842 - accuracy: 0.9555 - val_loss: 0.1820 - val_accuracy: 0.9600\n",
            "Epoch 5/10\n",
            "629/629 [==============================] - 8s 13ms/step - loss: 0.1580 - accuracy: 0.9620 - val_loss: 0.1415 - val_accuracy: 0.9667\n",
            "Epoch 6/10\n",
            "629/629 [==============================] - 9s 14ms/step - loss: 0.1280 - accuracy: 0.9685 - val_loss: 0.1652 - val_accuracy: 0.9570\n",
            "Epoch 7/10\n",
            "629/629 [==============================] - 9s 14ms/step - loss: 0.1023 - accuracy: 0.9748 - val_loss: 0.1385 - val_accuracy: 0.9702\n",
            "Epoch 8/10\n",
            "629/629 [==============================] - 9s 13ms/step - loss: 0.0966 - accuracy: 0.9760 - val_loss: 0.1297 - val_accuracy: 0.9726\n",
            "Epoch 9/10\n",
            "629/629 [==============================] - 9s 14ms/step - loss: 0.0898 - accuracy: 0.9786 - val_loss: 0.1330 - val_accuracy: 0.9711\n",
            "Epoch 10/10\n",
            "629/629 [==============================] - 8s 13ms/step - loss: 0.0938 - accuracy: 0.9766 - val_loss: 0.1574 - val_accuracy: 0.9667\n"
          ]
        }
      ]
    },
    {
      "cell_type": "code",
      "metadata": {
        "id": "wxHiklx0o6f6"
      },
      "source": [
        "#evaluating model\n",
        "model.evaluate(\n",
        "    testX, testY, batch_size=64, verbose=1, sample_weight=None, steps=None,\n",
        "    callbacks=None, max_queue_size=10, workers=1, use_multiprocessing=False,\n",
        "    return_dict=False\n",
        ")"
      ],
      "execution_count": null,
      "outputs": []
    },
    {
      "cell_type": "markdown",
      "metadata": {
        "id": "kjK-a5pTHODy"
      },
      "source": [
        "Simple Skip Connection"
      ]
    },
    {
      "cell_type": "code",
      "metadata": {
        "colab": {
          "base_uri": "https://localhost:8080/"
        },
        "id": "TpJhT4UwHM5b",
        "outputId": "aaadea55-6bbd-4ed9-ce31-2c1b5e6282df"
      },
      "source": [
        "# creating model\n",
        "def create_model():\n",
        "    inputs = Input(shape=(28,28))\n",
        "    input = tf.keras.layers.Flatten(input_shape=(28,28))(inputs)\n",
        "    x = tf.keras.layers.Dense(512, activation=tf.nn.relu)(input)\n",
        "\n",
        "    w = tf.keras.layers.Dense(256, activation=tf.nn.relu)(x)\n",
        "    z = tf.keras.layers.Dense(256, activation=tf.nn.relu)(w)\n",
        "    z = Add()([z,w])\n",
        "    x = tf.keras.layers.Dense(256, activation=tf.nn.relu)(z)\n",
        "    z = tf.keras.layers.Dense(256, activation=tf.nn.relu)(x)\n",
        "    z = Add()([z,x])\n",
        "    z = tf.keras.layers.Dropout(0.3)(z)\n",
        "\n",
        "    w = tf.keras.layers.Dense(128, activation=tf.nn.relu)(z)\n",
        "    z = tf.keras.layers.Dense(128, activation=tf.nn.relu)(w)\n",
        "    z = Add()([z,w])\n",
        "    x = tf.keras.layers.Dense(128, activation=tf.nn.relu)(z)\n",
        "    z = tf.keras.layers.Dense(128, activation=tf.nn.relu)(x)\n",
        "    z = Add()([z,x])\n",
        "    z = tf.keras.layers.Dropout(0.3)(z)\n",
        "\n",
        "    w = tf.keras.layers.Dense(64, activation=tf.nn.relu)(z)\n",
        "    z = tf.keras.layers.Dense(64, activation=tf.nn.relu)(w)\n",
        "    z = Add()([z,w])\n",
        "    x = tf.keras.layers.Dense(64, activation=tf.nn.relu)(z)\n",
        "    z = tf.keras.layers.Dense(64, activation=tf.nn.relu)(x)\n",
        "    z = Add()([z,x])\n",
        "    z = tf.keras.layers.Dropout(0.3)(z)\n",
        "\n",
        "    w = tf.keras.layers.Dense(32, activation=tf.nn.relu)(z)\n",
        "    z = tf.keras.layers.Dense(32, activation=tf.nn.relu)(w)\n",
        "    z = Add()([z,w])\n",
        "    x = tf.keras.layers.Dense(32, activation=tf.nn.relu)(z)\n",
        "    z = tf.keras.layers.Dense(32, activation=tf.nn.relu)(x)\n",
        "    z = Add()([z,x])\n",
        "\n",
        "    z = tf.keras.layers.Dense(10, activation=tf.nn.softmax)(z)\n",
        "    model = Model(inputs, z)\n",
        "    model.compile(optimizer=tf.keras.optimizers.Adam(5e-4),loss='sparse_categorical_crossentropy', metrics=['accuracy'])\n",
        "    return model\n",
        "\n",
        "# to run model on tpu\n",
        "with tpu_strategy.scope():\n",
        "    model = create_model()\n",
        "\n",
        "# loading cifar10 dataset\n",
        "(trainX, trainY),(testX, testY) = mnist.load_data()\n",
        "\n",
        "# splitting the training data in training and validation data\n",
        "trainX, valX, trainY, valY = train_test_split(trainX, trainY, test_size=0.33, random_state=42)\n",
        "\n",
        "# normalizing the image\n",
        "trainX,valX, testX = normalize_image(trainX,valX, testX)\n",
        "  \n",
        "# fit model\n",
        "history_3 = model.fit(trainX, trainY, validation_data=(valX,valY),epochs=10, batch_size=64, verbose=1,callbacks=[callback])"
      ],
      "execution_count": null,
      "outputs": [
        {
          "output_type": "stream",
          "name": "stdout",
          "text": [
            "Epoch 1/10\n",
            "629/629 [==============================] - 22s 23ms/step - loss: 0.8618 - accuracy: 0.7042 - val_loss: 0.2584 - val_accuracy: 0.9380\n",
            "Epoch 2/10\n",
            "629/629 [==============================] - 9s 14ms/step - loss: 0.2187 - accuracy: 0.9496 - val_loss: 0.1871 - val_accuracy: 0.9543\n",
            "Epoch 3/10\n",
            "629/629 [==============================] - 9s 14ms/step - loss: 0.1515 - accuracy: 0.9654 - val_loss: 0.1666 - val_accuracy: 0.9605\n",
            "Epoch 4/10\n",
            "629/629 [==============================] - 8s 13ms/step - loss: 0.1165 - accuracy: 0.9727 - val_loss: 0.1426 - val_accuracy: 0.9681\n",
            "Epoch 5/10\n",
            "629/629 [==============================] - 9s 14ms/step - loss: 0.0980 - accuracy: 0.9780 - val_loss: 0.1550 - val_accuracy: 0.9669\n",
            "Epoch 6/10\n",
            "629/629 [==============================] - 9s 14ms/step - loss: 0.0868 - accuracy: 0.9802 - val_loss: 0.1307 - val_accuracy: 0.9726\n",
            "Epoch 7/10\n",
            "629/629 [==============================] - 8s 13ms/step - loss: 0.0738 - accuracy: 0.9833 - val_loss: 0.1334 - val_accuracy: 0.9710\n",
            "Epoch 8/10\n",
            "629/629 [==============================] - 9s 14ms/step - loss: 0.0650 - accuracy: 0.9850 - val_loss: 0.1331 - val_accuracy: 0.9738\n",
            "Epoch 9/10\n",
            "629/629 [==============================] - 9s 14ms/step - loss: 0.0634 - accuracy: 0.9854 - val_loss: 0.1295 - val_accuracy: 0.9725\n",
            "Epoch 10/10\n",
            "629/629 [==============================] - 9s 14ms/step - loss: 0.0626 - accuracy: 0.9863 - val_loss: 0.1347 - val_accuracy: 0.9734\n"
          ]
        },
        {
          "output_type": "stream",
          "name": "stderr",
          "text": [
            "/usr/local/lib/python3.7/dist-packages/keras/utils/generic_utils.py:497: CustomMaskWarning: Custom mask layers require a config and must override get_config. When loading, the custom mask layer must be passed to the custom_objects argument.\n",
            "  category=CustomMaskWarning)\n"
          ]
        }
      ]
    },
    {
      "cell_type": "code",
      "metadata": {
        "id": "H3r_waM5o8uG"
      },
      "source": [
        "# evaluating model\n",
        "model.evaluate(\n",
        "    testX, testY, batch_size=64, verbose=1, sample_weight=None, steps=None,\n",
        "    callbacks=None, max_queue_size=10, workers=1, use_multiprocessing=False,\n",
        "    return_dict=False\n",
        ")"
      ],
      "execution_count": null,
      "outputs": []
    },
    {
      "cell_type": "markdown",
      "metadata": {
        "id": "s4GGHbtPbkov"
      },
      "source": [
        "2nd Skip Connection"
      ]
    },
    {
      "cell_type": "code",
      "metadata": {
        "colab": {
          "base_uri": "https://localhost:8080/"
        },
        "id": "lRoLsAi2bcNY",
        "outputId": "d6894e99-f4f6-4692-d148-10cc898c7084"
      },
      "source": [
        "# creating model\n",
        "def create_model():\n",
        "    inputs = Input(shape=(28,28))\n",
        "    input = tf.keras.layers.Flatten(input_shape=(28,28))(inputs)\n",
        "    x = tf.keras.layers.Dense(512, activation=tf.nn.relu)(input)\n",
        "\n",
        "    w = tf.keras.layers.Dense(256, activation=tf.nn.relu)(x)\n",
        "    z = tf.keras.layers.Dense(256, activation=tf.nn.relu)(w)\n",
        "    z = Add()([z,w])\n",
        "    x = tf.keras.layers.Dense(256, activation=tf.nn.relu)(z)\n",
        "    z = tf.keras.layers.Dense(256, activation=tf.nn.relu)(x)\n",
        "    z = Add()([z,w])\n",
        "\n",
        "    w = tf.keras.layers.Dense(128, activation=tf.nn.relu)(z)\n",
        "    z = tf.keras.layers.Dense(128, activation=tf.nn.relu)(w)\n",
        "    z = Add()([z,w])\n",
        "    x = tf.keras.layers.Dense(128, activation=tf.nn.relu)(z)\n",
        "    z = tf.keras.layers.Dense(128, activation=tf.nn.relu)(x)\n",
        "    z = Add()([z,w])\n",
        "\n",
        "    w = tf.keras.layers.Dense(64, activation=tf.nn.relu)(z)\n",
        "    z = tf.keras.layers.Dense(64, activation=tf.nn.relu)(w)\n",
        "    z = Add()([z,w])\n",
        "    x = tf.keras.layers.Dense(64, activation=tf.nn.relu)(z)\n",
        "    z = tf.keras.layers.Dense(64, activation=tf.nn.relu)(x)\n",
        "    z = Add()([z,w])\n",
        "\n",
        "    w = tf.keras.layers.Dense(32, activation=tf.nn.relu)(z)\n",
        "    z = tf.keras.layers.Dense(32, activation=tf.nn.relu)(w)\n",
        "    z = Add()([z,w])\n",
        "    x = tf.keras.layers.Dense(32, activation=tf.nn.relu)(z)\n",
        "    z = tf.keras.layers.Dense(32, activation=tf.nn.relu)(x)\n",
        "    z = Add()([z,w])\n",
        "\n",
        "    z = tf.keras.layers.Dense(10, activation=tf.nn.softmax)(z)\n",
        "    model = Model(inputs, z)\n",
        "    model.compile(optimizer=tf.keras.optimizers.Adam(0.0001),loss='sparse_categorical_crossentropy', metrics=['accuracy'])\n",
        "    return model\n",
        "\n",
        "# to run model on tpu\n",
        "with tpu_strategy.scope():\n",
        "    model = create_model()\n",
        "\n",
        "# loading cifar10 dataset\n",
        "(trainX, trainY),(testX, testY) = mnist.load_data()\n",
        "\n",
        "# splitting the training data in training and validation data\n",
        "trainX, valX, trainY, valY = train_test_split(trainX, trainY, test_size=0.33, random_state=42)\n",
        "\n",
        "# normalizing the image\n",
        "trainX,valX, testX = normalize_image(trainX,valX, testX)\n",
        "  \n",
        "# fit model\n",
        "history_2 = model.fit(trainX, trainY,validation_data=(valX,valY), epochs=10, batch_size=64, verbose=1,callbacks=[callback])"
      ],
      "execution_count": null,
      "outputs": [
        {
          "output_type": "stream",
          "name": "stdout",
          "text": [
            "Epoch 1/10\n",
            "629/629 [==============================] - 22s 22ms/step - loss: 0.5230 - accuracy: 0.8414 - val_loss: 30.0973 - val_accuracy: 0.9393\n",
            "Epoch 2/10\n",
            "629/629 [==============================] - 9s 14ms/step - loss: 0.1701 - accuracy: 0.9506 - val_loss: 23.6889 - val_accuracy: 0.9551\n",
            "Epoch 3/10\n",
            "629/629 [==============================] - 9s 14ms/step - loss: 0.1170 - accuracy: 0.9653 - val_loss: 22.5177 - val_accuracy: 0.9594\n",
            "Epoch 4/10\n",
            "629/629 [==============================] - 9s 14ms/step - loss: 0.0883 - accuracy: 0.9739 - val_loss: 20.8272 - val_accuracy: 0.9658\n",
            "Epoch 5/10\n",
            "629/629 [==============================] - 9s 14ms/step - loss: 0.0658 - accuracy: 0.9800 - val_loss: 20.3229 - val_accuracy: 0.9674\n",
            "Epoch 6/10\n",
            "629/629 [==============================] - 9s 14ms/step - loss: 0.0511 - accuracy: 0.9848 - val_loss: 24.9536 - val_accuracy: 0.9634\n",
            "Epoch 7/10\n",
            "629/629 [==============================] - 9s 14ms/step - loss: 0.0396 - accuracy: 0.9881 - val_loss: 20.8204 - val_accuracy: 0.9707\n",
            "Epoch 8/10\n",
            "629/629 [==============================] - 9s 15ms/step - loss: 0.0308 - accuracy: 0.9902 - val_loss: 27.7571 - val_accuracy: 0.9626\n",
            "Epoch 9/10\n",
            "629/629 [==============================] - 9s 14ms/step - loss: 0.0130 - accuracy: 0.9970 - val_loss: 20.2899 - val_accuracy: 0.9746\n",
            "Epoch 10/10\n",
            "629/629 [==============================] - 9s 14ms/step - loss: 0.0086 - accuracy: 0.9982 - val_loss: 20.5060 - val_accuracy: 0.9754\n"
          ]
        },
        {
          "output_type": "stream",
          "name": "stderr",
          "text": [
            "/usr/local/lib/python3.7/dist-packages/keras/utils/generic_utils.py:497: CustomMaskWarning: Custom mask layers require a config and must override get_config. When loading, the custom mask layer must be passed to the custom_objects argument.\n",
            "  category=CustomMaskWarning)\n"
          ]
        }
      ]
    },
    {
      "cell_type": "code",
      "metadata": {
        "id": "ZyyJ_kjpo935"
      },
      "source": [
        "# evaluating model\n",
        "model.evaluate(\n",
        "    testX, testY, batch_size=64, verbose=1, sample_weight=None, steps=None,\n",
        "    callbacks=None, max_queue_size=10, workers=1, use_multiprocessing=False,\n",
        "    return_dict=False\n",
        ")"
      ],
      "execution_count": null,
      "outputs": []
    },
    {
      "cell_type": "markdown",
      "metadata": {
        "id": "L-vWDE10b7tZ"
      },
      "source": [
        "Complex Skip Connection"
      ]
    },
    {
      "cell_type": "code",
      "metadata": {
        "colab": {
          "base_uri": "https://localhost:8080/"
        },
        "id": "17iX4DIKb5jA",
        "outputId": "e958247a-9d53-4ea7-b663-182b6022938c"
      },
      "source": [
        "# creating model\n",
        "def create_model():\n",
        "    inputs = Input(shape=(28,28))\n",
        "    input = tf.keras.layers.Flatten(input_shape=(28,28))(inputs)\n",
        "    x = tf.keras.layers.Dense(512, activation=tf.nn.relu)(input)\n",
        "\n",
        "    a = tf.keras.layers.Dense(256, activation=tf.nn.relu)(x)\n",
        "    b = tf.keras.layers.Dense(256, activation=tf.nn.relu)(a)\n",
        "    b = Add()([a,b])\n",
        "    c = tf.keras.layers.Dense(256, activation=tf.nn.relu)(b)\n",
        "    c = Add()([a,b,c])\n",
        "    d = tf.keras.layers.Dense(256, activation=tf.nn.relu)(c)\n",
        "    d = Add()([a,b,c,d])\n",
        "\n",
        "    a = tf.keras.layers.Dense(128, activation=tf.nn.relu)(d)\n",
        "    b = tf.keras.layers.Dense(128, activation=tf.nn.relu)(a)\n",
        "    b = Add()([a,b])\n",
        "    c = tf.keras.layers.Dense(128, activation=tf.nn.relu)(b)\n",
        "    c = Add()([a,b,c])\n",
        "    d = tf.keras.layers.Dense(128, activation=tf.nn.relu)(c)\n",
        "    d = Add()([a,b,c,d])\n",
        "\n",
        "    a = tf.keras.layers.Dense(64, activation=tf.nn.relu)(d)\n",
        "    b = tf.keras.layers.Dense(64, activation=tf.nn.relu)(a)\n",
        "    b = Add()([a,b])\n",
        "    c = tf.keras.layers.Dense(64, activation=tf.nn.relu)(b)\n",
        "    c = Add()([a,b,c])\n",
        "    d = tf.keras.layers.Dense(64, activation=tf.nn.relu)(c)\n",
        "    d = Add()([a,b,c,d])\n",
        "\n",
        "    a = tf.keras.layers.Dense(32, activation=tf.nn.relu)(d)\n",
        "    b = tf.keras.layers.Dense(32, activation=tf.nn.relu)(a)\n",
        "    b = Add()([a,b])\n",
        "    c = tf.keras.layers.Dense(32, activation=tf.nn.relu)(b)\n",
        "    c = Add()([a,b,c])\n",
        "    d = tf.keras.layers.Dense(32, activation=tf.nn.relu)(c)\n",
        "    d = Add()([a,b,c,d])\n",
        "\n",
        "    z = tf.keras.layers.Dense(10, activation=tf.nn.softmax)(d)\n",
        "    model = Model(inputs, z)\n",
        "    model.compile(optimizer=tf.keras.optimizers.Adam(5e-4),loss='sparse_categorical_crossentropy', metrics=['accuracy'])\n",
        "    return model\n",
        "\n",
        "# to run model on tpu\n",
        "with tpu_strategy.scope():\n",
        "    model = create_model()\n",
        "\n",
        "# loading cifar10 dataset\n",
        "(trainX, trainY),(testX, testY) = mnist.load_data()\n",
        "\n",
        "# splitting the training data in training and validation data\n",
        "trainX, valX, trainY, valY = train_test_split(trainX, trainY, test_size=0.20, random_state=42)\n",
        "\n",
        "# normalizing the image\n",
        "trainX,valX, testX = normalize_image(trainX,valX, testX)\n",
        "\n",
        "# fit model\n",
        "history_3 = model.fit(trainX, trainY, validation_data=(valX,valY),epochs=10, batch_size=64, verbose=1,callbacks=[callback])"
      ],
      "execution_count": null,
      "outputs": [
        {
          "output_type": "stream",
          "name": "stdout",
          "text": [
            "Epoch 1/10\n",
            "750/750 [==============================] - 18s 15ms/step - loss: 1.9386 - accuracy: 0.8356 - val_loss: 0.2852 - val_accuracy: 0.9225\n",
            "Epoch 2/10\n",
            "750/750 [==============================] - 8s 11ms/step - loss: 0.2174 - accuracy: 0.9393 - val_loss: 0.2136 - val_accuracy: 0.9414\n",
            "Epoch 3/10\n",
            "750/750 [==============================] - 8s 11ms/step - loss: 0.1507 - accuracy: 0.9571 - val_loss: 0.1781 - val_accuracy: 0.9539\n",
            "Epoch 4/10\n",
            "750/750 [==============================] - 8s 11ms/step - loss: 0.1136 - accuracy: 0.9675 - val_loss: 0.1703 - val_accuracy: 0.9541\n",
            "Epoch 5/10\n",
            "750/750 [==============================] - 8s 11ms/step - loss: 0.1088 - accuracy: 0.9684 - val_loss: 0.1866 - val_accuracy: 0.9521\n",
            "Epoch 6/10\n",
            "750/750 [==============================] - 8s 11ms/step - loss: 0.0992 - accuracy: 0.9717 - val_loss: 0.1410 - val_accuracy: 0.9625\n",
            "Epoch 7/10\n",
            "750/750 [==============================] - 8s 11ms/step - loss: 0.0797 - accuracy: 0.9760 - val_loss: 0.1275 - val_accuracy: 0.9684\n",
            "Epoch 8/10\n",
            "750/750 [==============================] - 9s 11ms/step - loss: 0.0777 - accuracy: 0.9782 - val_loss: 0.1383 - val_accuracy: 0.9670\n",
            "Epoch 9/10\n",
            "750/750 [==============================] - 8s 11ms/step - loss: 0.0698 - accuracy: 0.9803 - val_loss: 0.1305 - val_accuracy: 0.9679\n",
            "Epoch 10/10\n",
            "750/750 [==============================] - 9s 11ms/step - loss: 0.0632 - accuracy: 0.9820 - val_loss: 0.1287 - val_accuracy: 0.9685\n"
          ]
        },
        {
          "output_type": "stream",
          "name": "stderr",
          "text": [
            "/usr/local/lib/python3.7/dist-packages/keras/utils/generic_utils.py:497: CustomMaskWarning: Custom mask layers require a config and must override get_config. When loading, the custom mask layer must be passed to the custom_objects argument.\n",
            "  category=CustomMaskWarning)\n"
          ]
        }
      ]
    },
    {
      "cell_type": "code",
      "metadata": {
        "colab": {
          "base_uri": "https://localhost:8080/"
        },
        "id": "0Q2jeATao_F0",
        "outputId": "8e3edbc3-a88c-453d-d2df-0fd28524f63f"
      },
      "source": [
        "# evaluating model\n",
        "model.evaluate(\n",
        "    testX, testY, batch_size=64, verbose=1, sample_weight=None, steps=None,\n",
        "    callbacks=None, max_queue_size=10, workers=1, use_multiprocessing=False,\n",
        "    return_dict=False\n",
        ")"
      ],
      "execution_count": null,
      "outputs": [
        {
          "output_type": "stream",
          "name": "stdout",
          "text": [
            "157/157 [==============================] - 3s 15ms/step - loss: 0.1395 - accuracy: 0.9647\n"
          ]
        },
        {
          "output_type": "execute_result",
          "data": {
            "text/plain": [
              "[0.13954944908618927, 0.9646999835968018]"
            ]
          },
          "metadata": {},
          "execution_count": 34
        }
      ]
    },
    {
      "cell_type": "code",
      "metadata": {
        "id": "rcCpIFXSuQth"
      },
      "source": [
        ""
      ],
      "execution_count": null,
      "outputs": []
    },
    {
      "cell_type": "markdown",
      "metadata": {
        "id": "CSQAGTlquRQT"
      },
      "source": [
        "Ablation study"
      ]
    },
    {
      "cell_type": "markdown",
      "metadata": {
        "id": "0x5oKXi3uRQX"
      },
      "source": [
        "Number of layers skipped"
      ]
    },
    {
      "cell_type": "code",
      "metadata": {
        "colab": {
          "base_uri": "https://localhost:8080/"
        },
        "id": "xDt0psQsuRQX",
        "outputId": "253ceb8b-816d-4ca2-b86c-6e02414c135b"
      },
      "source": [
        "#creating model\n",
        "def create_model():\n",
        "    inputs = Input(shape=(28,28))\n",
        "    input = tf.keras.layers.Flatten(input_shape=(28,28))(inputs)\n",
        "    x = tf.keras.layers.Dense(512, activation=tf.nn.relu)(input)\n",
        "\n",
        "    w = tf.keras.layers.Dense(256, activation=tf.nn.relu)(x)\n",
        "    z = tf.keras.layers.Dense(256, activation=tf.nn.relu)(w)\n",
        "    z = Add()([z,w])\n",
        "    x = tf.keras.layers.Dense(256, activation=tf.nn.relu)(z)\n",
        "    z = tf.keras.layers.Dense(256, activation=tf.nn.relu)(x)\n",
        "    z = Add()([z,x])\n",
        "    z = tf.keras.layers.Dropout(0.3)(z)\n",
        "\n",
        "    w = tf.keras.layers.Dense(128, activation=tf.nn.relu)(z)\n",
        "    z = tf.keras.layers.Dense(128, activation=tf.nn.relu)(w)\n",
        "    x = tf.keras.layers.Dense(128, activation=tf.nn.relu)(z)\n",
        "    z = tf.keras.layers.Dense(128, activation=tf.nn.relu)(x)\n",
        "    z = tf.keras.layers.Dropout(0.3)(z)\n",
        "\n",
        "    w = tf.keras.layers.Dense(64, activation=tf.nn.relu)(z)\n",
        "    z = tf.keras.layers.Dense(64, activation=tf.nn.relu)(w)\n",
        "    x = tf.keras.layers.Dense(64, activation=tf.nn.relu)(z)\n",
        "    z = tf.keras.layers.Dense(64, activation=tf.nn.relu)(x)\n",
        "    z = tf.keras.layers.Dropout(0.3)(z)\n",
        "\n",
        "    w = tf.keras.layers.Dense(32, activation=tf.nn.relu)(z)\n",
        "    z = tf.keras.layers.Dense(32, activation=tf.nn.relu)(w)\n",
        "    x = tf.keras.layers.Dense(32, activation=tf.nn.relu)(z)\n",
        "    z = tf.keras.layers.Dense(32, activation=tf.nn.relu)(x)\n",
        "\n",
        "    z = tf.keras.layers.Dense(10, activation=tf.nn.softmax)(z)\n",
        "    model = Model(inputs, z)\n",
        "    model.compile(optimizer=tf.keras.optimizers.Adam(0.0001),loss='sparse_categorical_crossentropy', metrics=['accuracy'])\n",
        "    return model\n",
        "\n",
        "# to run model on tpu\n",
        "with tpu_strategy.scope():\n",
        "    model = create_model()\n",
        "\n",
        "# loading cifar10 dataset\n",
        "(trainX, trainY),(testX, testY) = mnist.load_data()\n",
        "\n",
        "# splitting the training data in training and validation data\n",
        "trainX, valX, trainY, valY = train_test_split(trainX, trainY, test_size=0.33, random_state=42)\n",
        "\n",
        "# normalizing the image\n",
        "trainX,valX, testX = normalize_image(trainX,valX, testX)\n",
        "  \n",
        "# fit model\n",
        "history_4 = model.fit(trainX, trainY, validation_data=(valX,valY),epochs=50, batch_size=64, verbose=1,callbacks=[callback])"
      ],
      "execution_count": null,
      "outputs": [
        {
          "output_type": "stream",
          "name": "stdout",
          "text": [
            "Epoch 1/50\n",
            "524/524 [==============================] - 27s 31ms/step - loss: 2.2268 - accuracy: 0.1379 - val_loss: 2.1348 - val_accuracy: 0.1677\n",
            "Epoch 2/50\n",
            "524/524 [==============================] - 8s 16ms/step - loss: 2.0681 - accuracy: 0.1772 - val_loss: 2.0197 - val_accuracy: 0.1859\n",
            "Epoch 3/50\n",
            "524/524 [==============================] - 8s 16ms/step - loss: 2.0133 - accuracy: 0.1960 - val_loss: 1.9715 - val_accuracy: 0.2101\n",
            "Epoch 4/50\n",
            "524/524 [==============================] - 8s 16ms/step - loss: 1.9537 - accuracy: 0.2290 - val_loss: 1.9033 - val_accuracy: 0.2499\n",
            "Epoch 5/50\n",
            "524/524 [==============================] - 8s 16ms/step - loss: 1.9027 - accuracy: 0.2501 - val_loss: 1.8905 - val_accuracy: 0.2585\n",
            "Epoch 6/50\n",
            "524/524 [==============================] - 9s 17ms/step - loss: 1.8627 - accuracy: 0.2748 - val_loss: 1.8387 - val_accuracy: 0.2830\n",
            "Epoch 7/50\n",
            "524/524 [==============================] - 8s 16ms/step - loss: 1.8284 - accuracy: 0.2879 - val_loss: 1.8187 - val_accuracy: 0.2902\n",
            "Epoch 8/50\n",
            "524/524 [==============================] - 8s 16ms/step - loss: 1.7986 - accuracy: 0.3005 - val_loss: 1.7891 - val_accuracy: 0.3259\n",
            "Epoch 9/50\n",
            "524/524 [==============================] - 8s 16ms/step - loss: 1.7681 - accuracy: 0.3227 - val_loss: 1.7526 - val_accuracy: 0.3296\n",
            "Epoch 10/50\n",
            "524/524 [==============================] - 8s 16ms/step - loss: 1.7330 - accuracy: 0.3385 - val_loss: 1.7188 - val_accuracy: 0.3571\n",
            "Epoch 11/50\n",
            "524/524 [==============================] - 9s 16ms/step - loss: 1.7074 - accuracy: 0.3528 - val_loss: 1.7121 - val_accuracy: 0.3638\n",
            "Epoch 12/50\n",
            "524/524 [==============================] - 9s 16ms/step - loss: 1.6750 - accuracy: 0.3676 - val_loss: 1.6804 - val_accuracy: 0.3785\n",
            "Epoch 13/50\n",
            "524/524 [==============================] - 9s 16ms/step - loss: 1.6482 - accuracy: 0.3864 - val_loss: 1.6857 - val_accuracy: 0.3818\n",
            "Epoch 14/50\n",
            "524/524 [==============================] - 8s 16ms/step - loss: 1.6231 - accuracy: 0.4001 - val_loss: 1.6579 - val_accuracy: 0.3945\n",
            "Epoch 15/50\n",
            "524/524 [==============================] - 8s 16ms/step - loss: 1.6004 - accuracy: 0.4101 - val_loss: 1.6715 - val_accuracy: 0.4010\n",
            "Epoch 16/50\n",
            "524/524 [==============================] - 9s 16ms/step - loss: 1.5776 - accuracy: 0.4243 - val_loss: 1.6304 - val_accuracy: 0.4121\n",
            "Epoch 17/50\n",
            "524/524 [==============================] - 8s 16ms/step - loss: 1.5496 - accuracy: 0.4359 - val_loss: 1.6311 - val_accuracy: 0.4167\n",
            "Epoch 18/50\n",
            "524/524 [==============================] - 8s 16ms/step - loss: 1.5318 - accuracy: 0.4425 - val_loss: 1.6190 - val_accuracy: 0.4255\n",
            "Epoch 19/50\n",
            "524/524 [==============================] - 9s 16ms/step - loss: 1.5097 - accuracy: 0.4531 - val_loss: 1.6100 - val_accuracy: 0.4301\n",
            "Epoch 20/50\n",
            "524/524 [==============================] - 8s 16ms/step - loss: 1.4835 - accuracy: 0.4624 - val_loss: 1.6145 - val_accuracy: 0.4359\n",
            "Epoch 21/50\n",
            "524/524 [==============================] - 8s 16ms/step - loss: 1.4657 - accuracy: 0.4702 - val_loss: 1.5957 - val_accuracy: 0.4403\n",
            "Epoch 22/50\n",
            "524/524 [==============================] - 8s 16ms/step - loss: 1.4387 - accuracy: 0.4831 - val_loss: 1.6043 - val_accuracy: 0.4413\n",
            "Epoch 23/50\n",
            "524/524 [==============================] - 8s 16ms/step - loss: 1.4255 - accuracy: 0.4877 - val_loss: 1.5516 - val_accuracy: 0.4558\n",
            "Epoch 24/50\n",
            "524/524 [==============================] - 8s 16ms/step - loss: 1.4027 - accuracy: 0.4959 - val_loss: 1.5769 - val_accuracy: 0.4537\n",
            "Epoch 25/50\n",
            "524/524 [==============================] - 8s 16ms/step - loss: 1.3848 - accuracy: 0.5036 - val_loss: 1.5847 - val_accuracy: 0.4606\n",
            "Epoch 26/50\n",
            "524/524 [==============================] - 8s 16ms/step - loss: 1.3645 - accuracy: 0.5084 - val_loss: 1.5579 - val_accuracy: 0.4668\n",
            "Epoch 27/50\n",
            "524/524 [==============================] - 8s 16ms/step - loss: 1.2651 - accuracy: 0.5434 - val_loss: 1.5378 - val_accuracy: 0.4727\n",
            "Epoch 28/50\n",
            "524/524 [==============================] - 8s 16ms/step - loss: 1.2438 - accuracy: 0.5516 - val_loss: 1.5443 - val_accuracy: 0.4766\n",
            "Epoch 29/50\n",
            "524/524 [==============================] - 9s 17ms/step - loss: 1.2323 - accuracy: 0.5571 - val_loss: 1.5436 - val_accuracy: 0.4776\n",
            "Epoch 30/50\n",
            "524/524 [==============================] - 8s 16ms/step - loss: 1.2263 - accuracy: 0.5566 - val_loss: 1.5502 - val_accuracy: 0.4783\n",
            "Epoch 31/50\n",
            "524/524 [==============================] - 8s 16ms/step - loss: 1.2092 - accuracy: 0.5647 - val_loss: 1.5510 - val_accuracy: 0.4785\n",
            "Epoch 32/50\n",
            "524/524 [==============================] - 8s 16ms/step - loss: 1.2071 - accuracy: 0.5637 - val_loss: 1.5512 - val_accuracy: 0.4795\n",
            "Epoch 33/50\n",
            "524/524 [==============================] - 8s 16ms/step - loss: 1.2085 - accuracy: 0.5633 - val_loss: 1.5516 - val_accuracy: 0.4798\n",
            "Epoch 34/50\n",
            "524/524 [==============================] - 8s 16ms/step - loss: 1.2055 - accuracy: 0.5649 - val_loss: 1.5512 - val_accuracy: 0.4798\n",
            "Epoch 35/50\n",
            "524/524 [==============================] - 8s 16ms/step - loss: 1.2031 - accuracy: 0.5643 - val_loss: 1.5511 - val_accuracy: 0.4795\n",
            "Epoch 36/50\n",
            "524/524 [==============================] - 8s 16ms/step - loss: 1.2026 - accuracy: 0.5652 - val_loss: 1.5510 - val_accuracy: 0.4793\n",
            "Epoch 37/50\n",
            "524/524 [==============================] - 8s 16ms/step - loss: 1.2055 - accuracy: 0.5638 - val_loss: 1.5510 - val_accuracy: 0.4793\n",
            "Epoch 38/50\n",
            "524/524 [==============================] - 8s 16ms/step - loss: 1.2041 - accuracy: 0.5616 - val_loss: 1.5510 - val_accuracy: 0.4795\n",
            "Epoch 39/50\n",
            "524/524 [==============================] - 8s 16ms/step - loss: 1.2013 - accuracy: 0.5698 - val_loss: 1.5510 - val_accuracy: 0.4793\n",
            "Epoch 40/50\n",
            "524/524 [==============================] - 8s 16ms/step - loss: 1.2034 - accuracy: 0.5651 - val_loss: 1.5510 - val_accuracy: 0.4793\n",
            "Epoch 41/50\n",
            "524/524 [==============================] - 8s 16ms/step - loss: 1.2029 - accuracy: 0.5661 - val_loss: 1.5510 - val_accuracy: 0.4794\n",
            "Epoch 42/50\n",
            "524/524 [==============================] - 8s 16ms/step - loss: 1.2052 - accuracy: 0.5671 - val_loss: 1.5510 - val_accuracy: 0.4795\n",
            "Epoch 43/50\n",
            "524/524 [==============================] - 8s 16ms/step - loss: 1.2066 - accuracy: 0.5631 - val_loss: 1.5510 - val_accuracy: 0.4795\n",
            "Epoch 44/50\n",
            "524/524 [==============================] - 8s 16ms/step - loss: 1.2028 - accuracy: 0.5668 - val_loss: 1.5510 - val_accuracy: 0.4795\n",
            "Epoch 45/50\n",
            "524/524 [==============================] - 8s 16ms/step - loss: 1.2032 - accuracy: 0.5646 - val_loss: 1.5510 - val_accuracy: 0.4795\n",
            "Epoch 46/50\n",
            "524/524 [==============================] - 8s 16ms/step - loss: 1.2074 - accuracy: 0.5647 - val_loss: 1.5510 - val_accuracy: 0.4795\n",
            "Epoch 47/50\n",
            "524/524 [==============================] - 9s 16ms/step - loss: 1.2034 - accuracy: 0.5674 - val_loss: 1.5510 - val_accuracy: 0.4795\n",
            "Epoch 48/50\n",
            "524/524 [==============================] - 9s 17ms/step - loss: 1.2039 - accuracy: 0.5654 - val_loss: 1.5510 - val_accuracy: 0.4795\n",
            "Epoch 49/50\n",
            "524/524 [==============================] - 9s 16ms/step - loss: 1.2006 - accuracy: 0.5674 - val_loss: 1.5510 - val_accuracy: 0.4795\n",
            "Epoch 50/50\n",
            "524/524 [==============================] - 9s 16ms/step - loss: 1.2042 - accuracy: 0.5670 - val_loss: 1.5510 - val_accuracy: 0.4795\n"
          ]
        },
        {
          "output_type": "stream",
          "name": "stderr",
          "text": [
            "/usr/local/lib/python3.7/dist-packages/keras/utils/generic_utils.py:497: CustomMaskWarning: Custom mask layers require a config and must override get_config. When loading, the custom mask layer must be passed to the custom_objects argument.\n",
            "  category=CustomMaskWarning)\n"
          ]
        }
      ]
    },
    {
      "cell_type": "code",
      "metadata": {
        "id": "6Jc5y1BquRQZ"
      },
      "source": [
        "# evaluating model\n",
        "model.evaluate(\n",
        "    testX, testY, batch_size=64, verbose=1, sample_weight=None, steps=None,\n",
        "    callbacks=None, max_queue_size=10, workers=1, use_multiprocessing=False,\n",
        "    return_dict=False\n",
        ")"
      ],
      "execution_count": null,
      "outputs": []
    },
    {
      "cell_type": "code",
      "metadata": {
        "id": "-GIenlGxuRQa"
      },
      "source": [
        "# plotting the model's training and validation accuracy and loss \n",
        "%matplotlib inline\n",
        "import matplotlib.pyplot as plt\n",
        "acc = history_4.history['accuracy']\n",
        "val_acc = history_4.history['val_accuracy']\n",
        "loss = history_4.history['loss']\n",
        "val_loss = history_4.history['val_loss']\n",
        "\n",
        "epochs = range(len(acc))\n",
        "\n",
        "plt.plot(epochs, acc, 'r', label='Training accuracy')\n",
        "plt.plot(epochs, val_acc, 'b', label='Validation accuracy')\n",
        "plt.title('Training and validation accuracy')\n",
        "plt.legend()\n",
        "plt.figure()\n",
        "\n",
        "plt.plot(epochs, loss, 'r', label='Training Loss')\n",
        "plt.plot(epochs, val_loss, 'b', label='Validation Loss')\n",
        "plt.title('Training and validation loss')\n",
        "plt.legend()\n",
        "\n",
        "plt.show()"
      ],
      "execution_count": null,
      "outputs": []
    },
    {
      "cell_type": "code",
      "metadata": {
        "id": "ieeqxGBOuRQa"
      },
      "source": [
        "# This shows number of skip connection, also matters and just keeping 1/3 skip connections reduces the performance by 3-4%"
      ],
      "execution_count": null,
      "outputs": []
    },
    {
      "cell_type": "markdown",
      "metadata": {
        "id": "ERg74VXeuRQb"
      },
      "source": [
        "Activation of each skipped layer"
      ]
    },
    {
      "cell_type": "code",
      "metadata": {
        "colab": {
          "base_uri": "https://localhost:8080/"
        },
        "id": "hAX_QScWuRQc",
        "outputId": "1b06a262-1d42-4f14-cabf-9e76ddae4237"
      },
      "source": [
        "#creating model\n",
        "def create_model():\n",
        "    inputs = Input(shape=(28,28))\n",
        "    input = tf.keras.layers.Flatten(input_shape=(28,28))(inputs)\n",
        "    x = tf.keras.layers.Dense(512)(input)\n",
        "\n",
        "    w = tf.keras.layers.Dense(256)(x)\n",
        "    z = tf.keras.layers.Dense(256)(w)\n",
        "    z = Add()([z,w])\n",
        "    x = tf.keras.layers.Dense(256)(z)\n",
        "    z = tf.keras.layers.Dense(256)(x)\n",
        "    z = Add()([z,x])\n",
        "    z = tf.keras.layers.Dropout(0.3)(z)\n",
        "\n",
        "    w = tf.keras.layers.Dense(128)(z)\n",
        "    z = tf.keras.layers.Dense(128)(w)\n",
        "    z = Add()([z,w])\n",
        "    x = tf.keras.layers.Dense(128)(z)\n",
        "    z = tf.keras.layers.Dense(128)(x)\n",
        "    z = Add()([z,x])\n",
        "    z = tf.keras.layers.Dropout(0.3)(z)\n",
        "\n",
        "    w = tf.keras.layers.Dense(64)(z)\n",
        "    z = tf.keras.layers.Dense(64)(w)\n",
        "    z = Add()([z,w])\n",
        "    x = tf.keras.layers.Dense(64)(z)\n",
        "    z = tf.keras.layers.Dense(64)(x)\n",
        "    z = Add()([z,x])\n",
        "    z = tf.keras.layers.Dropout(0.3)(z)\n",
        "\n",
        "    w = tf.keras.layers.Dense(32)(z)\n",
        "    z = tf.keras.layers.Dense(32)(w)\n",
        "    z = Add()([z,w])\n",
        "    x = tf.keras.layers.Dense(32)(z)\n",
        "    z = tf.keras.layers.Dense(32)(x)\n",
        "    z = Add()([z,x])\n",
        "\n",
        "    z = tf.keras.layers.Dense(10, activation=tf.nn.softmax)(z)\n",
        "    model = Model(inputs, z)\n",
        "    model.compile(optimizer=tf.keras.optimizers.Adam(0.0001),loss='sparse_categorical_crossentropy', metrics=['accuracy'])\n",
        "    return model\n",
        "\n",
        "# to run model on tpu\n",
        "with tpu_strategy.scope():\n",
        "    model = create_model()\n",
        "\n",
        "# loading cifar10 dataset\n",
        "(trainX, trainY),(testX, testY) = mnist.load_data()\n",
        "\n",
        "# splitting the training data in training and validation data\n",
        "trainX, valX, trainY, valY = train_test_split(trainX, trainY, test_size=0.33, random_state=42)\n",
        "\n",
        "# normalizing the image\n",
        "trainX,valX, testX = normalize_image(trainX,valX, testX)\n",
        "  \n",
        "# fit model\n",
        "history_5 = model.fit(trainX, trainY, validation_data=(valX,valY),epochs=50, batch_size=64, verbose=1,callbacks=[callback])"
      ],
      "execution_count": null,
      "outputs": [
        {
          "output_type": "stream",
          "name": "stdout",
          "text": [
            "Epoch 1/50\n",
            "524/524 [==============================] - 23s 29ms/step - loss: 4.3925 - accuracy: 0.1474 - val_loss: 2.1588 - val_accuracy: 0.1963\n",
            "Epoch 2/50\n",
            "524/524 [==============================] - 8s 16ms/step - loss: 2.1853 - accuracy: 0.1853 - val_loss: 2.0265 - val_accuracy: 0.2541\n",
            "Epoch 3/50\n",
            "524/524 [==============================] - 8s 16ms/step - loss: 2.0718 - accuracy: 0.2244 - val_loss: 1.9639 - val_accuracy: 0.2593\n",
            "Epoch 4/50\n",
            "524/524 [==============================] - 8s 16ms/step - loss: 2.0048 - accuracy: 0.2433 - val_loss: 1.9137 - val_accuracy: 0.2789\n",
            "Epoch 5/50\n",
            "524/524 [==============================] - 9s 16ms/step - loss: 1.9441 - accuracy: 0.2782 - val_loss: 1.8556 - val_accuracy: 0.3230\n",
            "Epoch 6/50\n",
            "524/524 [==============================] - 9s 16ms/step - loss: 1.8890 - accuracy: 0.2996 - val_loss: 1.8078 - val_accuracy: 0.3351\n",
            "Epoch 7/50\n",
            "524/524 [==============================] - 9s 18ms/step - loss: 1.8422 - accuracy: 0.3210 - val_loss: 1.7773 - val_accuracy: 0.3493\n",
            "Epoch 8/50\n",
            "524/524 [==============================] - 9s 16ms/step - loss: 1.8127 - accuracy: 0.3347 - val_loss: 1.7490 - val_accuracy: 0.3624\n",
            "Epoch 9/50\n",
            "524/524 [==============================] - 8s 16ms/step - loss: 1.7712 - accuracy: 0.3514 - val_loss: 1.7620 - val_accuracy: 0.3575\n",
            "Epoch 10/50\n",
            "524/524 [==============================] - 9s 16ms/step - loss: 1.7475 - accuracy: 0.3628 - val_loss: 1.7124 - val_accuracy: 0.3742\n",
            "Epoch 11/50\n",
            "524/524 [==============================] - 9s 16ms/step - loss: 1.7182 - accuracy: 0.3693 - val_loss: 1.6928 - val_accuracy: 0.3844\n",
            "Epoch 12/50\n",
            "524/524 [==============================] - 9s 16ms/step - loss: 1.6965 - accuracy: 0.3819 - val_loss: 1.6741 - val_accuracy: 0.3979\n",
            "Epoch 13/50\n",
            "524/524 [==============================] - 8s 16ms/step - loss: 1.6770 - accuracy: 0.3909 - val_loss: 1.6633 - val_accuracy: 0.3984\n",
            "Epoch 14/50\n",
            "524/524 [==============================] - 9s 16ms/step - loss: 1.6520 - accuracy: 0.3999 - val_loss: 1.6727 - val_accuracy: 0.3963\n",
            "Epoch 15/50\n",
            "524/524 [==============================] - 9s 16ms/step - loss: 1.6400 - accuracy: 0.4040 - val_loss: 1.6454 - val_accuracy: 0.4074\n",
            "Epoch 16/50\n",
            "524/524 [==============================] - 8s 16ms/step - loss: 1.6266 - accuracy: 0.4119 - val_loss: 1.6242 - val_accuracy: 0.4144\n",
            "Epoch 17/50\n",
            "524/524 [==============================] - 9s 16ms/step - loss: 1.6128 - accuracy: 0.4154 - val_loss: 1.6271 - val_accuracy: 0.4201\n",
            "Epoch 18/50\n",
            "524/524 [==============================] - 9s 16ms/step - loss: 1.5978 - accuracy: 0.4237 - val_loss: 1.6462 - val_accuracy: 0.4085\n",
            "Epoch 19/50\n",
            "524/524 [==============================] - 8s 16ms/step - loss: 1.5865 - accuracy: 0.4240 - val_loss: 1.6005 - val_accuracy: 0.4273\n",
            "Epoch 20/50\n",
            "524/524 [==============================] - 9s 16ms/step - loss: 1.5727 - accuracy: 0.4328 - val_loss: 1.5950 - val_accuracy: 0.4285\n",
            "Epoch 21/50\n",
            "524/524 [==============================] - 9s 16ms/step - loss: 1.5673 - accuracy: 0.4328 - val_loss: 1.5949 - val_accuracy: 0.4247\n",
            "Epoch 22/50\n",
            "524/524 [==============================] - 9s 16ms/step - loss: 1.5476 - accuracy: 0.4412 - val_loss: 1.5935 - val_accuracy: 0.4348\n",
            "Epoch 23/50\n",
            "524/524 [==============================] - 9s 16ms/step - loss: 1.5381 - accuracy: 0.4445 - val_loss: 1.5994 - val_accuracy: 0.4341\n",
            "Epoch 24/50\n",
            "524/524 [==============================] - 9s 16ms/step - loss: 1.5279 - accuracy: 0.4476 - val_loss: 1.5746 - val_accuracy: 0.4404\n",
            "Epoch 25/50\n",
            "524/524 [==============================] - 9s 16ms/step - loss: 1.5161 - accuracy: 0.4526 - val_loss: 1.5595 - val_accuracy: 0.4449\n",
            "Epoch 26/50\n",
            "524/524 [==============================] - 9s 16ms/step - loss: 1.5053 - accuracy: 0.4581 - val_loss: 1.5692 - val_accuracy: 0.4532\n",
            "Epoch 27/50\n",
            "524/524 [==============================] - 9s 16ms/step - loss: 1.4992 - accuracy: 0.4575 - val_loss: 1.5567 - val_accuracy: 0.4525\n",
            "Epoch 28/50\n",
            "524/524 [==============================] - 8s 16ms/step - loss: 1.4902 - accuracy: 0.4634 - val_loss: 1.5829 - val_accuracy: 0.4485\n",
            "Epoch 29/50\n",
            "524/524 [==============================] - 9s 16ms/step - loss: 1.4734 - accuracy: 0.4704 - val_loss: 1.6054 - val_accuracy: 0.4236\n",
            "Epoch 30/50\n",
            "524/524 [==============================] - 9s 17ms/step - loss: 1.4740 - accuracy: 0.4678 - val_loss: 1.5583 - val_accuracy: 0.4470\n",
            "Epoch 31/50\n",
            "524/524 [==============================] - 9s 16ms/step - loss: 1.3920 - accuracy: 0.4977 - val_loss: 1.5289 - val_accuracy: 0.4652\n",
            "Epoch 32/50\n",
            "524/524 [==============================] - 9s 16ms/step - loss: 1.3719 - accuracy: 0.5064 - val_loss: 1.5261 - val_accuracy: 0.4668\n",
            "Epoch 33/50\n",
            "524/524 [==============================] - 9s 16ms/step - loss: 1.3674 - accuracy: 0.5090 - val_loss: 1.5297 - val_accuracy: 0.4681\n",
            "Epoch 34/50\n",
            "524/524 [==============================] - 9s 17ms/step - loss: 1.3654 - accuracy: 0.5114 - val_loss: 1.5325 - val_accuracy: 0.4655\n",
            "Epoch 35/50\n",
            "524/524 [==============================] - 9s 17ms/step - loss: 1.3599 - accuracy: 0.5083 - val_loss: 1.5287 - val_accuracy: 0.4705\n",
            "Epoch 36/50\n",
            "524/524 [==============================] - 9s 17ms/step - loss: 1.3472 - accuracy: 0.5146 - val_loss: 1.5244 - val_accuracy: 0.4690\n",
            "Epoch 37/50\n",
            "524/524 [==============================] - 9s 17ms/step - loss: 1.3456 - accuracy: 0.5154 - val_loss: 1.5240 - val_accuracy: 0.4686\n",
            "Epoch 38/50\n",
            "524/524 [==============================] - 8s 16ms/step - loss: 1.3469 - accuracy: 0.5153 - val_loss: 1.5242 - val_accuracy: 0.4684\n",
            "Epoch 39/50\n",
            "524/524 [==============================] - 9s 16ms/step - loss: 1.3429 - accuracy: 0.5130 - val_loss: 1.5249 - val_accuracy: 0.4677\n",
            "Epoch 40/50\n",
            "524/524 [==============================] - 8s 16ms/step - loss: 1.3422 - accuracy: 0.5159 - val_loss: 1.5250 - val_accuracy: 0.4699\n",
            "Epoch 41/50\n",
            "524/524 [==============================] - 8s 16ms/step - loss: 1.3399 - accuracy: 0.5171 - val_loss: 1.5249 - val_accuracy: 0.4699\n",
            "Epoch 42/50\n",
            "524/524 [==============================] - 8s 16ms/step - loss: 1.3412 - accuracy: 0.5172 - val_loss: 1.5249 - val_accuracy: 0.4693\n",
            "Epoch 43/50\n",
            "524/524 [==============================] - 9s 16ms/step - loss: 1.3439 - accuracy: 0.5202 - val_loss: 1.5249 - val_accuracy: 0.4689\n",
            "Epoch 44/50\n",
            "524/524 [==============================] - 8s 16ms/step - loss: 1.3401 - accuracy: 0.5160 - val_loss: 1.5250 - val_accuracy: 0.4688\n",
            "Epoch 45/50\n",
            "524/524 [==============================] - 8s 16ms/step - loss: 1.3401 - accuracy: 0.5181 - val_loss: 1.5248 - val_accuracy: 0.4694\n",
            "Epoch 46/50\n",
            "524/524 [==============================] - 9s 17ms/step - loss: 1.3413 - accuracy: 0.5171 - val_loss: 1.5248 - val_accuracy: 0.4693\n",
            "Epoch 47/50\n",
            "524/524 [==============================] - 9s 16ms/step - loss: 1.3409 - accuracy: 0.5194 - val_loss: 1.5248 - val_accuracy: 0.4695\n",
            "Epoch 48/50\n",
            "524/524 [==============================] - 9s 16ms/step - loss: 1.3403 - accuracy: 0.5180 - val_loss: 1.5248 - val_accuracy: 0.4693\n",
            "Epoch 49/50\n",
            "524/524 [==============================] - 9s 17ms/step - loss: 1.3406 - accuracy: 0.5142 - val_loss: 1.5248 - val_accuracy: 0.4688\n",
            "Epoch 50/50\n",
            "524/524 [==============================] - 9s 17ms/step - loss: 1.3400 - accuracy: 0.5186 - val_loss: 1.5248 - val_accuracy: 0.4688\n"
          ]
        },
        {
          "output_type": "stream",
          "name": "stderr",
          "text": [
            "/usr/local/lib/python3.7/dist-packages/keras/utils/generic_utils.py:497: CustomMaskWarning: Custom mask layers require a config and must override get_config. When loading, the custom mask layer must be passed to the custom_objects argument.\n",
            "  category=CustomMaskWarning)\n"
          ]
        }
      ]
    },
    {
      "cell_type": "code",
      "metadata": {
        "id": "BbFT9bskuRQd"
      },
      "source": [
        "#evaluating model\n",
        "model.evaluate(\n",
        "    testX, testY, batch_size=64, verbose=1, sample_weight=None, steps=None,\n",
        "    callbacks=None, max_queue_size=10, workers=1, use_multiprocessing=False,\n",
        "    return_dict=False\n",
        ")"
      ],
      "execution_count": null,
      "outputs": []
    },
    {
      "cell_type": "code",
      "metadata": {
        "id": "7LZ3stAduRQd"
      },
      "source": [
        "# plotting the model's training and validation accuracy and loss \n",
        "%matplotlib inline\n",
        "import matplotlib.pyplot as plt\n",
        "acc = history_5.history['accuracy']\n",
        "val_acc = history_5.history['val_accuracy']\n",
        "loss = history_5.history['loss']\n",
        "val_loss = history_5.history['val_loss']\n",
        "\n",
        "epochs = range(len(acc))\n",
        "\n",
        "plt.plot(epochs, acc, 'r', label='Training accuracy')\n",
        "plt.plot(epochs, val_acc, 'b', label='Validation accuracy')\n",
        "plt.title('Training and validation accuracy')\n",
        "plt.legend()\n",
        "plt.figure()\n",
        "\n",
        "plt.plot(epochs, loss, 'r', label='Training Loss')\n",
        "plt.plot(epochs, val_loss, 'b', label='Validation Loss')\n",
        "plt.title('Training and validation loss')\n",
        "plt.legend()\n",
        "\n",
        "plt.show()"
      ],
      "execution_count": null,
      "outputs": []
    },
    {
      "cell_type": "markdown",
      "metadata": {
        "id": "RYBZvQkl4JyY"
      },
      "source": [
        "# Name of Authors and their contribution"
      ]
    },
    {
      "cell_type": "code",
      "metadata": {
        "id": "tNYk0ZOE4PPX"
      },
      "source": [
        "NAME = \"Shrey N Pandit\"\n",
        "ID = \"2019A7PS0138G\"\n",
        "Contribution = \"Performed the ablation studies and the Bonus part, fintuning of the code and documentation\""
      ],
      "execution_count": 63,
      "outputs": []
    },
    {
      "cell_type": "code",
      "metadata": {
        "id": "5VWZ029M4wYU"
      },
      "source": [
        "NAME = \"Jatin Singh\"\n",
        "ID = \"2019A7PS0085G\"\n",
        "Contribution = \"Coded up the Vanilla, Double skip connections, helped in model training and finetuning.\""
      ],
      "execution_count": 64,
      "outputs": []
    },
    {
      "cell_type": "code",
      "metadata": {
        "id": "CkYIa68R5JGK"
      },
      "source": [
        "NAME = \"Rachit Jain\"\n",
        "ID = \"2019A7PS0140G\"\n",
        "Contribution = \"Coded up the Complex skip connections, documented the code, and the MNIST code for the tasks.\""
      ],
      "execution_count": 65,
      "outputs": []
    },
    {
      "cell_type": "markdown",
      "metadata": {
        "id": "dpYg-SMQ5vhO"
      },
      "source": [
        "### Disclaimer :  We all did all the things together, just splitted the work, and helped each other with solving the bugs 🙂"
      ]
    }
  ]
}